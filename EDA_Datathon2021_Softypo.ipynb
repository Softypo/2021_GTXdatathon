{
 "metadata": {
  "language_info": {
   "codemirror_mode": {
    "name": "ipython",
    "version": 3
   },
   "file_extension": ".py",
   "mimetype": "text/x-python",
   "name": "python",
   "nbconvert_exporter": "python",
   "pygments_lexer": "ipython3",
   "version": "3.9.5"
  },
  "orig_nbformat": 2,
  "kernelspec": {
   "name": "pythonjvsc74a57bd0c7d8869ea13354499b1223e911de774642ce98e4c694ae7a07b9e19892bbafae",
   "display_name": "Python 3.9.5  ('.2021Datathon_venv': venv)"
  },
  "metadata": {
   "interpreter": {
    "hash": "c7d8869ea13354499b1223e911de774642ce98e4c694ae7a07b9e19892bbafae"
   }
  }
 },
 "nbformat": 4,
 "nbformat_minor": 2,
 "cells": [
  {
   "source": [
    "# EDA Datathon2021 by Softypo"
   ],
   "cell_type": "markdown",
   "metadata": {}
  },
  {
   "cell_type": "code",
   "execution_count": 1,
   "metadata": {},
   "outputs": [],
   "source": [
    "# Importing module libraries\n",
    "import pandas as pd\n",
    "import numpy as np\n",
    "import seaborn as sns\n",
    "import plotly.graph_objects as go\n",
    "from tqdm.notebook import tqdm\n",
    "import dataframe_utilities as dfutil"
   ]
  },
  {
   "source": [
    "## Data loading"
   ],
   "cell_type": "markdown",
   "metadata": {}
  },
  {
   "cell_type": "code",
   "execution_count": 2,
   "metadata": {},
   "outputs": [],
   "source": [
    "# Global files\n",
    "target_files = dfutil.loader('Data for Datathon\\structured_data', index_col=0,)\n",
    "# Eaglebine files\n",
    "Eaglebine_files = dfutil.loader('Data for Datathon\\Eaglebine\\Eaglebine', index_col=0)\n",
    "# Duvernay files\n",
    "Duvernay_files = dfutil.loader('Data for Datathon\\Duvernay\\Duvernay', index_col=0)"
   ]
  },
  {
   "cell_type": "code",
   "execution_count": 3,
   "metadata": {},
   "outputs": [],
   "source": [
    "# master dataframe\n",
    "df = target_files['set_assign']\n",
    "# creating static/synthetic cathegory\n",
    "df['source'] = pd.Series(['static' if ~np.isnan(row) else 'synthetic' for row in target_files['set_assign'].join(target_files['Data_static_logs'])['Temp (degC)']], dtype=\"category\", index=df.index)"
   ]
  },
  {
   "source": [
    "### tweaks and fixs"
   ],
   "cell_type": "markdown",
   "metadata": {}
  },
  {
   "cell_type": "code",
   "execution_count": 4,
   "metadata": {},
   "outputs": [],
   "source": [
    "# fixing this one file set index\n",
    "target_files['combined_temperature'].set_index('UWI', inplace=True)\n",
    "# fixing this one file index column name\n",
    "Eaglebine_files['Eaglebine_well_headers'].reset_index(inplace=True)\n",
    "Eaglebine_files['Eaglebine_well_headers'].set_index('displayapi', inplace=True)\n",
    "# fixing this one file index column values\n",
    "Eaglebine_files['EagleBine_Casing_production'].index = Eaglebine_files['EagleBine_Casing_production'].index*10000\n",
    "# triming spaces in these files\n",
    "Eaglebine_files['Eaglebine_production'].rename(columns=lambda x: x.strip(), inplace=True)\n",
    "Duvernay_files['SPE_Duvernay_production'].rename(columns=lambda x: x.strip(), inplace=True)\n",
    "# calculatin formation at td from Eaglebine_tops\n",
    "Eaglebine_files['Eaglebine_BHT']['formation'] = Eaglebine_files['Eaglebine_tops'].iloc[:,9:28].isin(Eaglebine_files['Eaglebine_tops'].iloc[:,9:28].max(axis=1)).idxmax(1)\n",
    "#droping unused files\n",
    "Duvernay_files.pop('Duvernay_tops')\n",
    "Eaglebine_files.pop('Eaglebine_tops')\n",
    "#droping duplicated rows\n",
    "Eaglebine_files['Eaglebine_production'] = Eaglebine_files['Eaglebine_production'][~Eaglebine_files['Eaglebine_production'].index.duplicated(keep='first')]\n",
    "Eaglebine_files['Eaglebine_mud'] = Eaglebine_files['Eaglebine_mud'][~Eaglebine_files['Eaglebine_mud'].index.duplicated(keep='last')]"
   ]
  },
  {
   "source": [
    "### concealing names and dropping redundant columns"
   ],
   "cell_type": "markdown",
   "metadata": {}
  },
  {
   "cell_type": "code",
   "execution_count": 5,
   "metadata": {},
   "outputs": [],
   "source": [
    "# well headers\n",
    "Eaglebine_files['Eaglebine_well_headers']['Elevation'] = Eaglebine_files['Eaglebine_well_headers']['Elevation']*0.3048\n",
    "Eaglebine_files['Eaglebine_well_headers'].drop(columns=['td'], inplace=True)\n",
    "\n",
    "Eaglebine_files['Eaglebine_well_headers'].rename(columns = {'Elevation':'Elevation_KB_meters'}, inplace = True)\n",
    "Duvernay_files['Duvernay_well_headers'].rename(columns = {'Elevation Meters':'Elevation_KB_meters'}, inplace = True)\n",
    "\n",
    "# BHT files\n",
    "Eaglebine_files['Eaglebine_BHT'].drop(columns=['SurfLat', 'SurfLong', 'TD (ft)', 'BHT_below sea level (ft)', 'BHT_ subsurface (ft)', 'GL(ft)', 'BHTorMRT (maximum recorded temperature) oF'], inplace=True)\n",
    "Duvernay_files['Duvernay_BHT'].drop(columns=['DST Bottom Hole Temp. (degC)', 'Unnamed: 9', 'elevation M above sea level', 'UWI'], inplace=True)\n",
    "\n",
    "Duvernay_files['Duvernay_BHT'].rename(columns = {'Formation DSTd':'formation'}, inplace = True)\n",
    "\n",
    "# Casing files\n",
    "Eaglebine_files['Eaglebine_BHT'].add_suffix('_casing_info')\n",
    "\n",
    "# mud files\n",
    "Eaglebine_files['Eaglebine_mud']['MW@Depth(KB)'] = Eaglebine_files['Eaglebine_mud']['MW@Depth(KB)']*0.3048\n",
    "Eaglebine_files['Eaglebine_mud'].drop(columns=['TD', 'KB'], inplace=True)\n",
    "\n",
    "Eaglebine_files['Eaglebine_mud'].rename(columns = {'MW@Depth(KB)':'MW@Depth_KB_meters'}, inplace = True)\n",
    "Eaglebine_files['Eaglebine_mud'].add_suffix('_mud_info')\n",
    "\n",
    "# production files\n",
    "Eaglebine_files['Eaglebine_production'].drop(columns=['Elevation', 'Measured Depth (ft)'], inplace=True)\n",
    "Duvernay_files['SPE_Duvernay_production'].drop(columns=['Elevation', 'Elevation Drill Floor (ft)', 'Elevation Ground (ft)', 'Elevation Kelly Bushing (ft)'], inplace=True)\n",
    "\n",
    "# pressures files\n",
    "Duvernay_files['Duvernay_Pressures'].drop(columns=['KB Elev (m)', 'DST Number', 'Formation DSTd',\n",
    "       'DST Start Depth (TVD) (m)', 'DST End Depth (TVD) (m)',\n",
    "       'DST Start Depth (MD) (m)', 'DST End Depth (MD) (m)', 'DST Test Date',\n",
    "       'Test Type', 'DST Misrun', 'Misrun Problem Type', '1st Valve Open Time',\n",
    "       '2nd Valve Open Time', '3rd Valve Open Time', '1st Shut-in Time',\n",
    "       '2nd Shut-in Time', '3rd Shut-in Time', 'Pressure Recorder Depth (m)',\n",
    "       'DST Bottom Hole Temp. (degC)', '1st Flow Pressure (kPa)',\n",
    "       '2nd Flow Pressure (kPa)', '3rd Flow Pressure (kPa)',\n",
    "       '1st Shut-in Pressure (kPa)', '1st Shut-in Initial Slope',\n",
    "       '1st Shut-in Final Slope', '1st Shut-in Extrapolated Press (kPa)',\n",
    "       '2nd Shut-in Pressure (kPa)', '2nd Shut-in Initial Slope',\n",
    "       '2nd Shut-in Final Slope', '2nd Shut-in Extrapolated Press (kPa)',\n",
    "       '3rd Shut-in Pressure (kPa)', '3rd Shut-in Initial Slope',\n",
    "       '3rd Shut-in Final Slope', '3rd Shut-in Extrapolated Press (kPa)',\n",
    "       'Maximum Shut-in Pressure (kPa)'], inplace=True)"
   ]
  },
  {
   "source": [
    "### concatenating dataframes"
   ],
   "cell_type": "markdown",
   "metadata": {}
  },
  {
   "cell_type": "code",
   "execution_count": 6,
   "metadata": {},
   "outputs": [],
   "source": [
    "# pre merge\n",
    "df = dfutil.multimerge([df, target_files['combined_temperature']], how='left', left_index=True, right_index=True)\n",
    "Eaglebine = dfutil.multimerge(Eaglebine_files, how='outer', left_index=True, right_index=True)\n",
    "Duvernay = dfutil.multimerge(Duvernay_files, how='outer', left_index=True, right_index=True)\n",
    "# fixing strange index behavior\n",
    "Eaglebine.index = [str(idx) + '_' for idx in Eaglebine.index]\n",
    "Duvernay.index = [str(idx) + '_' for idx in Duvernay.index]\n",
    "df.index = [str(idx) + '_' for idx in df.index]\n",
    "# post merge\n",
    "df = dfutil.multimerge([df, pd.concat([Duvernay, Eaglebine], axis=0, join='outer', verify_integrity=True)], how='left', left_index=True, right_index=True)\n",
    "# renaming index names to a common one\n",
    "dfutil.renameIndex('UWI', df, inplace=True)"
   ]
  },
  {
   "cell_type": "code",
   "execution_count": 9,
   "metadata": {},
   "outputs": [
    {
     "output_type": "execute_result",
     "data": {
      "text/plain": [
       "                                  Set     source        BHT  TrueTemp  \\\n",
       "UWI                                                                     \n",
       "42021301990000_    Validation_Testing  synthetic  73.333333       NaN   \n",
       "100102606420W500_  Validation_Testing  synthetic  27.780000       NaN   \n",
       "100141705519W500_  Validation_Testing  synthetic  83.330000       NaN   \n",
       "100141503621W400_  Validation_Testing  synthetic  48.890000       NaN   \n",
       "100043406718W500_  Validation_Testing  synthetic  65.560000       NaN   \n",
       "\n",
       "                   Depth_SS(m)      Field  TD (ft)  DST Start Depth (MD) (m)  \\\n",
       "UWI                                                                            \n",
       "42021301990000_            NaN  Eaglebine   6910.0                       NaN   \n",
       "100102606420W500_       697.20   Duvernay      NaN                    1484.4   \n",
       "100141705519W500_      1348.90   Duvernay      NaN                    2488.4   \n",
       "100141503621W400_       408.15   Duvernay      NaN                    1313.7   \n",
       "100043406718W500_      1440.35   Duvernay      NaN                    2207.7   \n",
       "\n",
       "                   DST End Depth (MD) (m)  DST Test Date  ... Mud Wt  \\\n",
       "UWI                                                       ...          \n",
       "42021301990000_                       NaN            NaN  ...   10.2   \n",
       "100102606420W500_                  1495.0        21850.0  ...    NaN   \n",
       "100141705519W500_                  2496.6        25813.0  ...    NaN   \n",
       "100141503621W400_                  1318.0        21964.0  ...    NaN   \n",
       "100043406718W500_                  2222.0        23066.0  ...    NaN   \n",
       "\n",
       "                  MW@Depth_KB_meters  TD Date Drilling Days  \\\n",
       "UWI                                                           \n",
       "42021301990000_             2106.168      NaT           NaN   \n",
       "100102606420W500_                NaN      NaT           NaN   \n",
       "100141705519W500_                NaN      NaT           NaN   \n",
       "100141503621W400_                NaN      NaT           NaN   \n",
       "100043406718W500_                NaN      NaT           NaN   \n",
       "\n",
       "                   Liquid Injection Cum (bbl)  Gas Injection Cum (mcf)  \\\n",
       "UWI                                                                      \n",
       "42021301990000_                           NaN                      NaN   \n",
       "100102606420W500_                         NaN                      NaN   \n",
       "100141705519W500_                         NaN                      NaN   \n",
       "100141503621W400_                         NaN                      NaN   \n",
       "100043406718W500_                         NaN                      NaN   \n",
       "\n",
       "                   WGS84Latitude WGS84Longitude   SurfLat  SurfLong  \n",
       "UWI                                                                  \n",
       "42021301990000_        30.011031     -97.127885  30.01083  -97.1276  \n",
       "100102606420W500_            NaN            NaN       NaN       NaN  \n",
       "100141705519W500_            NaN            NaN       NaN       NaN  \n",
       "100141503621W400_            NaN            NaN       NaN       NaN  \n",
       "100043406718W500_            NaN            NaN       NaN       NaN  \n",
       "\n",
       "[5 rows x 63 columns]"
      ],
      "text/html": "<div>\n<style scoped>\n    .dataframe tbody tr th:only-of-type {\n        vertical-align: middle;\n    }\n\n    .dataframe tbody tr th {\n        vertical-align: top;\n    }\n\n    .dataframe thead th {\n        text-align: right;\n    }\n</style>\n<table border=\"1\" class=\"dataframe\">\n  <thead>\n    <tr style=\"text-align: right;\">\n      <th></th>\n      <th>Set</th>\n      <th>source</th>\n      <th>BHT</th>\n      <th>TrueTemp</th>\n      <th>Depth_SS(m)</th>\n      <th>Field</th>\n      <th>TD (ft)</th>\n      <th>DST Start Depth (MD) (m)</th>\n      <th>DST End Depth (MD) (m)</th>\n      <th>DST Test Date</th>\n      <th>...</th>\n      <th>Mud Wt</th>\n      <th>MW@Depth_KB_meters</th>\n      <th>TD Date</th>\n      <th>Drilling Days</th>\n      <th>Liquid Injection Cum (bbl)</th>\n      <th>Gas Injection Cum (mcf)</th>\n      <th>WGS84Latitude</th>\n      <th>WGS84Longitude</th>\n      <th>SurfLat</th>\n      <th>SurfLong</th>\n    </tr>\n    <tr>\n      <th>UWI</th>\n      <th></th>\n      <th></th>\n      <th></th>\n      <th></th>\n      <th></th>\n      <th></th>\n      <th></th>\n      <th></th>\n      <th></th>\n      <th></th>\n      <th></th>\n      <th></th>\n      <th></th>\n      <th></th>\n      <th></th>\n      <th></th>\n      <th></th>\n      <th></th>\n      <th></th>\n      <th></th>\n      <th></th>\n    </tr>\n  </thead>\n  <tbody>\n    <tr>\n      <th>42021301990000_</th>\n      <td>Validation_Testing</td>\n      <td>synthetic</td>\n      <td>73.333333</td>\n      <td>NaN</td>\n      <td>NaN</td>\n      <td>Eaglebine</td>\n      <td>6910.0</td>\n      <td>NaN</td>\n      <td>NaN</td>\n      <td>NaN</td>\n      <td>...</td>\n      <td>10.2</td>\n      <td>2106.168</td>\n      <td>NaT</td>\n      <td>NaN</td>\n      <td>NaN</td>\n      <td>NaN</td>\n      <td>30.011031</td>\n      <td>-97.127885</td>\n      <td>30.01083</td>\n      <td>-97.1276</td>\n    </tr>\n    <tr>\n      <th>100102606420W500_</th>\n      <td>Validation_Testing</td>\n      <td>synthetic</td>\n      <td>27.780000</td>\n      <td>NaN</td>\n      <td>697.20</td>\n      <td>Duvernay</td>\n      <td>NaN</td>\n      <td>1484.4</td>\n      <td>1495.0</td>\n      <td>21850.0</td>\n      <td>...</td>\n      <td>NaN</td>\n      <td>NaN</td>\n      <td>NaT</td>\n      <td>NaN</td>\n      <td>NaN</td>\n      <td>NaN</td>\n      <td>NaN</td>\n      <td>NaN</td>\n      <td>NaN</td>\n      <td>NaN</td>\n    </tr>\n    <tr>\n      <th>100141705519W500_</th>\n      <td>Validation_Testing</td>\n      <td>synthetic</td>\n      <td>83.330000</td>\n      <td>NaN</td>\n      <td>1348.90</td>\n      <td>Duvernay</td>\n      <td>NaN</td>\n      <td>2488.4</td>\n      <td>2496.6</td>\n      <td>25813.0</td>\n      <td>...</td>\n      <td>NaN</td>\n      <td>NaN</td>\n      <td>NaT</td>\n      <td>NaN</td>\n      <td>NaN</td>\n      <td>NaN</td>\n      <td>NaN</td>\n      <td>NaN</td>\n      <td>NaN</td>\n      <td>NaN</td>\n    </tr>\n    <tr>\n      <th>100141503621W400_</th>\n      <td>Validation_Testing</td>\n      <td>synthetic</td>\n      <td>48.890000</td>\n      <td>NaN</td>\n      <td>408.15</td>\n      <td>Duvernay</td>\n      <td>NaN</td>\n      <td>1313.7</td>\n      <td>1318.0</td>\n      <td>21964.0</td>\n      <td>...</td>\n      <td>NaN</td>\n      <td>NaN</td>\n      <td>NaT</td>\n      <td>NaN</td>\n      <td>NaN</td>\n      <td>NaN</td>\n      <td>NaN</td>\n      <td>NaN</td>\n      <td>NaN</td>\n      <td>NaN</td>\n    </tr>\n    <tr>\n      <th>100043406718W500_</th>\n      <td>Validation_Testing</td>\n      <td>synthetic</td>\n      <td>65.560000</td>\n      <td>NaN</td>\n      <td>1440.35</td>\n      <td>Duvernay</td>\n      <td>NaN</td>\n      <td>2207.7</td>\n      <td>2222.0</td>\n      <td>23066.0</td>\n      <td>...</td>\n      <td>NaN</td>\n      <td>NaN</td>\n      <td>NaT</td>\n      <td>NaN</td>\n      <td>NaN</td>\n      <td>NaN</td>\n      <td>NaN</td>\n      <td>NaN</td>\n      <td>NaN</td>\n      <td>NaN</td>\n    </tr>\n  </tbody>\n</table>\n<p>5 rows × 63 columns</p>\n</div>"
     },
     "metadata": {},
     "execution_count": 9
    }
   ],
   "source": [
    "df.head(5)"
   ]
  },
  {
   "source": [
    "### Creating master dataframe"
   ],
   "cell_type": "markdown",
   "metadata": {}
  },
  {
   "source": [
    "## Zipping the prediction"
   ],
   "cell_type": "markdown",
   "metadata": {}
  },
  {
   "cell_type": "code",
   "execution_count": null,
   "metadata": {},
   "outputs": [],
   "source": [
    "import zipfile\r\n",
    "zipfile.ZipFile('predictions.zip', mode='w').write(\"predictions.csv\")"
   ]
  }
 ]
}