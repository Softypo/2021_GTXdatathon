{
 "metadata": {
  "language_info": {
   "codemirror_mode": {
    "name": "ipython",
    "version": 3
   },
   "file_extension": ".py",
   "mimetype": "text/x-python",
   "name": "python",
   "nbconvert_exporter": "python",
   "pygments_lexer": "ipython3",
   "version": "3.9.5"
  },
  "orig_nbformat": 2,
  "kernelspec": {
   "name": "pythonjvsc74a57bd0c7d8869ea13354499b1223e911de774642ce98e4c694ae7a07b9e19892bbafae",
   "display_name": "Python 3.9.5  ('.2021Datathon_venv': venv)"
  },
  "metadata": {
   "interpreter": {
    "hash": "c7d8869ea13354499b1223e911de774642ce98e4c694ae7a07b9e19892bbafae"
   }
  }
 },
 "nbformat": 4,
 "nbformat_minor": 2,
 "cells": [
  {
   "source": [
    "# EDA Datathon2021 by Softypo"
   ],
   "cell_type": "markdown",
   "metadata": {}
  },
  {
   "cell_type": "code",
   "execution_count": 2,
   "metadata": {},
   "outputs": [],
   "source": [
    "# Importing module libraries\n",
    "import pandas as pd\n",
    "import numpy as np\n",
    "import seaborn as sns\n",
    "import plotly.graph_objects as go\n",
    "from tqdm.notebook import tqdm"
   ]
  },
  {
   "source": [
    "## Data loading"
   ],
   "cell_type": "markdown",
   "metadata": {}
  },
  {
   "cell_type": "code",
   "execution_count": 83,
   "metadata": {},
   "outputs": [],
   "source": [
    "# Global files\n",
    "structured_data = pd.read_csv('StructuredData/combined_temperature.csv', index_col=0, usecols=range(1,7))\n",
    "set_assign = pd.read_csv('Data for Datathon\\set_assign.csv', index_col=0)\n",
    "Data_static_logs = pd.read_csv('Data for Datathon\\Data_static_logs.csv', index_col=0)\n",
    "# Duvernay files\n",
    "Duvernay_Well_Headers = pd.read_excel('Data for Datathon\\Duvernay\\Duvernay\\Duvernay well headers SPE April 21 2021 .xlsx', index_col=0)\n",
    "Duvernay_DST_BHT = pd.read_excel('Data for Datathon\\Duvernay\\Duvernay\\Duvernay DST BHT for SPE April 20 2021.xlsx', index_col=0)\n",
    "# Eaglebine files\n",
    "Eaglebine_Well_Headers = pd.read_excel('Data for Datathon\\Eaglebine\\Eaglebine\\Eaglebine well headers SPE April 21 2021.xlsx', index_col=3)"
   ]
  },
  {
   "source": [
    "### Creating master dataframe"
   ],
   "cell_type": "markdown",
   "metadata": {}
  },
  {
   "cell_type": "code",
   "execution_count": 87,
   "metadata": {},
   "outputs": [
    {
     "output_type": "execute_result",
     "data": {
      "text/plain": [
       "                  Elevation Meters ElevationDatum  TD meters   \\\n",
       "UWI                                                             \n",
       "100072507623W500        555.700000             KB  2545.00000   \n",
       "100062007823W500        560.900000             KB  2430.00000   \n",
       "100052107723W500        558.400000             KB  2515.50000   \n",
       "100061307518W500        631.400000             KB  2411.00000   \n",
       "100070907618W500        627.000000             KB  2408.00000   \n",
       "...                            ...            ...         ...   \n",
       "100013603712W500       1309.463760             KB  1352.44197   \n",
       "100101105718W500       1319.223776             KB  3862.55232   \n",
       "100112004213W500       1326.310609             KB  4717.23956   \n",
       "100142103711W500       1508.678432             KB  5175.67380   \n",
       "100042103812W500       1644.449950             KB  5430.19015   \n",
       "\n",
       "                  SurfaceLatitude_NAD83  SurfaceLongitude_NAD83  \\\n",
       "UWI                                                               \n",
       "100072507623W500              55.613640             -117.423800   \n",
       "100062007823W500              55.770872             -117.537674   \n",
       "100052107723W500              55.683723             -117.516168   \n",
       "100061307518W500              55.494600             -116.653606   \n",
       "100070907618W500              55.566965             -116.726243   \n",
       "...                                 ...                     ...   \n",
       "100013603712W500              52.216665             -115.579316   \n",
       "100101105718W500              53.914953             -116.559741   \n",
       "100112004213W500              52.633129             -115.838137   \n",
       "100142103711W500              52.199202             -115.517529   \n",
       "100042103812W500              52.277338             -115.665615   \n",
       "\n",
       "                  BottomLatitude_NAD83  BottomLongitude_NAD83  \\\n",
       "UWI                                                             \n",
       "100072507623W500             55.613640            -117.423800   \n",
       "100062007823W500             55.770872            -117.537674   \n",
       "100052107723W500             55.683723            -117.516168   \n",
       "100061307518W500             55.494600            -116.653606   \n",
       "100070907618W500             55.566965            -116.726243   \n",
       "...                                ...                    ...   \n",
       "100013603712W500             52.217223            -115.578140   \n",
       "100101105718W500             53.914953            -116.559741   \n",
       "100112004213W500             52.633602            -115.837674   \n",
       "100142103711W500             52.200163            -115.517398   \n",
       "100042103812W500             52.278579            -115.665615   \n",
       "\n",
       "                  SurfaceLatitude_NAD27  SurfaceLongitude_NAD27  \\\n",
       "UWI                                                               \n",
       "100072507623W500              55.613640             -117.423800   \n",
       "100062007823W500              55.770872             -117.537674   \n",
       "100052107723W500              55.683723             -117.516168   \n",
       "100061307518W500              55.494600             -116.653606   \n",
       "100070907618W500              55.566965             -116.726243   \n",
       "...                                 ...                     ...   \n",
       "100013603712W500              52.216665             -115.579316   \n",
       "100101105718W500              53.914953             -116.559741   \n",
       "100112004213W500              52.633129             -115.838137   \n",
       "100142103711W500              52.199202             -115.517529   \n",
       "100042103812W500              52.277338             -115.665615   \n",
       "\n",
       "                  BottomLatitude_NAD27  BottomLongitude_NAD27  \n",
       "UWI                                                            \n",
       "100072507623W500             55.613640            -117.423800  \n",
       "100062007823W500             55.770872            -117.537674  \n",
       "100052107723W500             55.683723            -117.516168  \n",
       "100061307518W500             55.494600            -116.653606  \n",
       "100070907618W500             55.566965            -116.726243  \n",
       "...                                ...                    ...  \n",
       "100013603712W500             52.217223            -115.578140  \n",
       "100101105718W500             53.914953            -116.559741  \n",
       "100112004213W500             52.633602            -115.837674  \n",
       "100142103711W500             52.200163            -115.517398  \n",
       "100042103812W500             52.278579            -115.665615  \n",
       "\n",
       "[512 rows x 11 columns]"
      ],
      "text/html": "<div>\n<style scoped>\n    .dataframe tbody tr th:only-of-type {\n        vertical-align: middle;\n    }\n\n    .dataframe tbody tr th {\n        vertical-align: top;\n    }\n\n    .dataframe thead th {\n        text-align: right;\n    }\n</style>\n<table border=\"1\" class=\"dataframe\">\n  <thead>\n    <tr style=\"text-align: right;\">\n      <th></th>\n      <th>Elevation Meters</th>\n      <th>ElevationDatum</th>\n      <th>TD meters</th>\n      <th>SurfaceLatitude_NAD83</th>\n      <th>SurfaceLongitude_NAD83</th>\n      <th>BottomLatitude_NAD83</th>\n      <th>BottomLongitude_NAD83</th>\n      <th>SurfaceLatitude_NAD27</th>\n      <th>SurfaceLongitude_NAD27</th>\n      <th>BottomLatitude_NAD27</th>\n      <th>BottomLongitude_NAD27</th>\n    </tr>\n    <tr>\n      <th>UWI</th>\n      <th></th>\n      <th></th>\n      <th></th>\n      <th></th>\n      <th></th>\n      <th></th>\n      <th></th>\n      <th></th>\n      <th></th>\n      <th></th>\n      <th></th>\n    </tr>\n  </thead>\n  <tbody>\n    <tr>\n      <th>100072507623W500</th>\n      <td>555.700000</td>\n      <td>KB</td>\n      <td>2545.00000</td>\n      <td>55.613640</td>\n      <td>-117.423800</td>\n      <td>55.613640</td>\n      <td>-117.423800</td>\n      <td>55.613640</td>\n      <td>-117.423800</td>\n      <td>55.613640</td>\n      <td>-117.423800</td>\n    </tr>\n    <tr>\n      <th>100062007823W500</th>\n      <td>560.900000</td>\n      <td>KB</td>\n      <td>2430.00000</td>\n      <td>55.770872</td>\n      <td>-117.537674</td>\n      <td>55.770872</td>\n      <td>-117.537674</td>\n      <td>55.770872</td>\n      <td>-117.537674</td>\n      <td>55.770872</td>\n      <td>-117.537674</td>\n    </tr>\n    <tr>\n      <th>100052107723W500</th>\n      <td>558.400000</td>\n      <td>KB</td>\n      <td>2515.50000</td>\n      <td>55.683723</td>\n      <td>-117.516168</td>\n      <td>55.683723</td>\n      <td>-117.516168</td>\n      <td>55.683723</td>\n      <td>-117.516168</td>\n      <td>55.683723</td>\n      <td>-117.516168</td>\n    </tr>\n    <tr>\n      <th>100061307518W500</th>\n      <td>631.400000</td>\n      <td>KB</td>\n      <td>2411.00000</td>\n      <td>55.494600</td>\n      <td>-116.653606</td>\n      <td>55.494600</td>\n      <td>-116.653606</td>\n      <td>55.494600</td>\n      <td>-116.653606</td>\n      <td>55.494600</td>\n      <td>-116.653606</td>\n    </tr>\n    <tr>\n      <th>100070907618W500</th>\n      <td>627.000000</td>\n      <td>KB</td>\n      <td>2408.00000</td>\n      <td>55.566965</td>\n      <td>-116.726243</td>\n      <td>55.566965</td>\n      <td>-116.726243</td>\n      <td>55.566965</td>\n      <td>-116.726243</td>\n      <td>55.566965</td>\n      <td>-116.726243</td>\n    </tr>\n    <tr>\n      <th>...</th>\n      <td>...</td>\n      <td>...</td>\n      <td>...</td>\n      <td>...</td>\n      <td>...</td>\n      <td>...</td>\n      <td>...</td>\n      <td>...</td>\n      <td>...</td>\n      <td>...</td>\n      <td>...</td>\n    </tr>\n    <tr>\n      <th>100013603712W500</th>\n      <td>1309.463760</td>\n      <td>KB</td>\n      <td>1352.44197</td>\n      <td>52.216665</td>\n      <td>-115.579316</td>\n      <td>52.217223</td>\n      <td>-115.578140</td>\n      <td>52.216665</td>\n      <td>-115.579316</td>\n      <td>52.217223</td>\n      <td>-115.578140</td>\n    </tr>\n    <tr>\n      <th>100101105718W500</th>\n      <td>1319.223776</td>\n      <td>KB</td>\n      <td>3862.55232</td>\n      <td>53.914953</td>\n      <td>-116.559741</td>\n      <td>53.914953</td>\n      <td>-116.559741</td>\n      <td>53.914953</td>\n      <td>-116.559741</td>\n      <td>53.914953</td>\n      <td>-116.559741</td>\n    </tr>\n    <tr>\n      <th>100112004213W500</th>\n      <td>1326.310609</td>\n      <td>KB</td>\n      <td>4717.23956</td>\n      <td>52.633129</td>\n      <td>-115.838137</td>\n      <td>52.633602</td>\n      <td>-115.837674</td>\n      <td>52.633129</td>\n      <td>-115.838137</td>\n      <td>52.633602</td>\n      <td>-115.837674</td>\n    </tr>\n    <tr>\n      <th>100142103711W500</th>\n      <td>1508.678432</td>\n      <td>KB</td>\n      <td>5175.67380</td>\n      <td>52.199202</td>\n      <td>-115.517529</td>\n      <td>52.200163</td>\n      <td>-115.517398</td>\n      <td>52.199202</td>\n      <td>-115.517529</td>\n      <td>52.200163</td>\n      <td>-115.517398</td>\n    </tr>\n    <tr>\n      <th>100042103812W500</th>\n      <td>1644.449950</td>\n      <td>KB</td>\n      <td>5430.19015</td>\n      <td>52.277338</td>\n      <td>-115.665615</td>\n      <td>52.278579</td>\n      <td>-115.665615</td>\n      <td>52.277338</td>\n      <td>-115.665615</td>\n      <td>52.278579</td>\n      <td>-115.665615</td>\n    </tr>\n  </tbody>\n</table>\n<p>512 rows × 11 columns</p>\n</div>"
     },
     "metadata": {},
     "execution_count": 87
    }
   ],
   "source": [
    "# standardising names\n",
    "Duvernay_Well_Headers.rename(columns={'TD meters': 'TD_meters'})"
   ]
  },
  {
   "cell_type": "code",
   "execution_count": 77,
   "metadata": {},
   "outputs": [],
   "source": [
    "#dropping redundant and/or useless columns\n",
    "Duvernay_Well_Headers.drop(columns=['ElevationDatum', 'SurfaceLatitude_NAD27', 'SurfaceLongitude_NAD27', 'BottomLatitude_NAD27', 'BottomLongitude_NAD27'], inplace=True)\n",
    "Eaglebine_Well_Headers.drop(columns=['ElevationDatum', 'WGS84Latitude', 'WGS84Longitude', 'SurfLat', 'SurfLong', 'SurfaceLatitude_NAD27', 'SurfaceLongitude_NAD27', 'BottomLatitude_NAD27', 'BottomLongitude_NAD27'], inplace=True)\n"
   ]
  },
  {
   "cell_type": "code",
   "execution_count": null,
   "metadata": {},
   "outputs": [],
   "source": [
    "# standardising units to metric"
   ]
  },
  {
   "cell_type": "code",
   "execution_count": null,
   "metadata": {},
   "outputs": [],
   "source": [
    "['UWI', 'Elevation Meters', 'ElevationDatum', 'TD meters', 'SurfaceLatitude_NAD83', 'SurfaceLongitude_NAD83', 'BottomLatitude_NAD83', 'BottomLongitude_NAD83', 'SurfaceLatitude_NAD27', 'SurfaceLongitude_NAD27', 'BottomLatitude_NAD27', 'BottomLongitude_NAD27']"
   ]
  },
  {
   "cell_type": "code",
   "execution_count": null,
   "metadata": {},
   "outputs": [],
   "source": [
    "['td', 'Elevation', 'ElevationDatum', 'displayapi', 'WGS84Latitude', 'WGS84Longitude', 'SurfLat', 'SurfLong', 'SurfaceLatitude_NAD83', 'SurfaceLongitude_NAD83', 'BottomLatitude_NAD83', 'BottomLongitude_NAD83', 'SurfaceLatitude_NAD27', 'SurfaceLongitude_NAD27', 'BottomLatitude_NAD27', 'BottomLongitude_NAD27']"
   ]
  },
  {
   "cell_type": "code",
   "execution_count": 61,
   "metadata": {},
   "outputs": [],
   "source": [
    "# merging Duvernay and Eaglebine files\n",
    "Well_Headers = pd.merge(Duvernay_Well_Headers, Eaglebine_Well_Headers, how='outer')"
   ]
  },
  {
   "cell_type": "code",
   "execution_count": 49,
   "metadata": {},
   "outputs": [],
   "source": [
    "# joining wells features dataframes and structured_data provided\n",
    "df = set_assign.join(structured_data)\n",
    "\n",
    "#\n",
    "df = df.join(Well_Headers, rsuffix='WH')\n",
    "\n",
    "# creating static/synthetic cathegory\n",
    "df['source'] = pd.Series(['static' if ~np.isnan(row) else 'synthetic' for row in set_assign.join(Data_static_logs)['Temp (degC)']], index=df.index, dtype=\"category\")"
   ]
  },
  {
   "cell_type": "code",
   "execution_count": 50,
   "metadata": {},
   "outputs": [
    {
     "output_type": "execute_result",
     "data": {
      "text/plain": [
       "                                 Set        BHT   TrueTemp  Depth_SS(m)  \\\n",
       "UWI                                                                       \n",
       "42021301990000    Validation_Testing  73.333333        NaN          NaN   \n",
       "100102606420W500  Validation_Testing  27.780000        NaN       697.20   \n",
       "100141705519W500  Validation_Testing  83.330000        NaN      1348.90   \n",
       "100141503621W400  Validation_Testing  48.890000        NaN       408.15   \n",
       "100043406718W500  Validation_Testing  65.560000        NaN      1440.35   \n",
       "...                              ...        ...        ...          ...   \n",
       "100101606423W500            Training  47.220000  56.340000       683.70   \n",
       "42177309850000              Training  74.444444  96.655556          NaN   \n",
       "100100805919W500            Training  69.440000  73.050000      1110.40   \n",
       "100110905226W400            Training  51.670000  55.420000       651.30   \n",
       "102061504515W400            Training  38.600000  42.790000       252.50   \n",
       "\n",
       "                      Field  TD (ft)     source  \n",
       "UWI                                              \n",
       "42021301990000    Eaglebine   6910.0  synthetic  \n",
       "100102606420W500   Duvernay      NaN  synthetic  \n",
       "100141705519W500   Duvernay      NaN  synthetic  \n",
       "100141503621W400   Duvernay      NaN  synthetic  \n",
       "100043406718W500   Duvernay      NaN  synthetic  \n",
       "...                     ...      ...        ...  \n",
       "100101606423W500   Duvernay      NaN  synthetic  \n",
       "42177309850000    Eaglebine   7035.0  synthetic  \n",
       "100100805919W500   Duvernay      NaN  synthetic  \n",
       "100110905226W400   Duvernay      NaN  synthetic  \n",
       "102061504515W400   Duvernay      NaN  synthetic  \n",
       "\n",
       "[821 rows x 7 columns]"
      ],
      "text/html": "<div>\n<style scoped>\n    .dataframe tbody tr th:only-of-type {\n        vertical-align: middle;\n    }\n\n    .dataframe tbody tr th {\n        vertical-align: top;\n    }\n\n    .dataframe thead th {\n        text-align: right;\n    }\n</style>\n<table border=\"1\" class=\"dataframe\">\n  <thead>\n    <tr style=\"text-align: right;\">\n      <th></th>\n      <th>Set</th>\n      <th>BHT</th>\n      <th>TrueTemp</th>\n      <th>Depth_SS(m)</th>\n      <th>Field</th>\n      <th>TD (ft)</th>\n      <th>source</th>\n    </tr>\n    <tr>\n      <th>UWI</th>\n      <th></th>\n      <th></th>\n      <th></th>\n      <th></th>\n      <th></th>\n      <th></th>\n      <th></th>\n    </tr>\n  </thead>\n  <tbody>\n    <tr>\n      <th>42021301990000</th>\n      <td>Validation_Testing</td>\n      <td>73.333333</td>\n      <td>NaN</td>\n      <td>NaN</td>\n      <td>Eaglebine</td>\n      <td>6910.0</td>\n      <td>synthetic</td>\n    </tr>\n    <tr>\n      <th>100102606420W500</th>\n      <td>Validation_Testing</td>\n      <td>27.780000</td>\n      <td>NaN</td>\n      <td>697.20</td>\n      <td>Duvernay</td>\n      <td>NaN</td>\n      <td>synthetic</td>\n    </tr>\n    <tr>\n      <th>100141705519W500</th>\n      <td>Validation_Testing</td>\n      <td>83.330000</td>\n      <td>NaN</td>\n      <td>1348.90</td>\n      <td>Duvernay</td>\n      <td>NaN</td>\n      <td>synthetic</td>\n    </tr>\n    <tr>\n      <th>100141503621W400</th>\n      <td>Validation_Testing</td>\n      <td>48.890000</td>\n      <td>NaN</td>\n      <td>408.15</td>\n      <td>Duvernay</td>\n      <td>NaN</td>\n      <td>synthetic</td>\n    </tr>\n    <tr>\n      <th>100043406718W500</th>\n      <td>Validation_Testing</td>\n      <td>65.560000</td>\n      <td>NaN</td>\n      <td>1440.35</td>\n      <td>Duvernay</td>\n      <td>NaN</td>\n      <td>synthetic</td>\n    </tr>\n    <tr>\n      <th>...</th>\n      <td>...</td>\n      <td>...</td>\n      <td>...</td>\n      <td>...</td>\n      <td>...</td>\n      <td>...</td>\n      <td>...</td>\n    </tr>\n    <tr>\n      <th>100101606423W500</th>\n      <td>Training</td>\n      <td>47.220000</td>\n      <td>56.340000</td>\n      <td>683.70</td>\n      <td>Duvernay</td>\n      <td>NaN</td>\n      <td>synthetic</td>\n    </tr>\n    <tr>\n      <th>42177309850000</th>\n      <td>Training</td>\n      <td>74.444444</td>\n      <td>96.655556</td>\n      <td>NaN</td>\n      <td>Eaglebine</td>\n      <td>7035.0</td>\n      <td>synthetic</td>\n    </tr>\n    <tr>\n      <th>100100805919W500</th>\n      <td>Training</td>\n      <td>69.440000</td>\n      <td>73.050000</td>\n      <td>1110.40</td>\n      <td>Duvernay</td>\n      <td>NaN</td>\n      <td>synthetic</td>\n    </tr>\n    <tr>\n      <th>100110905226W400</th>\n      <td>Training</td>\n      <td>51.670000</td>\n      <td>55.420000</td>\n      <td>651.30</td>\n      <td>Duvernay</td>\n      <td>NaN</td>\n      <td>synthetic</td>\n    </tr>\n    <tr>\n      <th>102061504515W400</th>\n      <td>Training</td>\n      <td>38.600000</td>\n      <td>42.790000</td>\n      <td>252.50</td>\n      <td>Duvernay</td>\n      <td>NaN</td>\n      <td>synthetic</td>\n    </tr>\n  </tbody>\n</table>\n<p>821 rows × 7 columns</p>\n</div>"
     },
     "metadata": {},
     "execution_count": 50
    }
   ],
   "source": [
    "df"
   ]
  },
  {
   "cell_type": "code",
   "execution_count": 11,
   "metadata": {},
   "outputs": [],
   "source": [
    "df['Depth (m)'] = df['Depth (ft)']*0.3048"
   ]
  },
  {
   "source": [
    "## Zipping the prediction"
   ],
   "cell_type": "markdown",
   "metadata": {}
  },
  {
   "cell_type": "code",
   "execution_count": null,
   "metadata": {},
   "outputs": [],
   "source": [
    "import zipfile\r\n",
    "zipfile.ZipFile('predictions.zip', mode='w').write(\"predictions.csv\")"
   ]
  }
 ]
}