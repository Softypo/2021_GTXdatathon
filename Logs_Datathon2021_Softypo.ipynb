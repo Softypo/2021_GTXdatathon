{
 "metadata": {
  "language_info": {
   "codemirror_mode": {
    "name": "ipython",
    "version": 3
   },
   "file_extension": ".py",
   "mimetype": "text/x-python",
   "name": "python",
   "nbconvert_exporter": "python",
   "pygments_lexer": "ipython3",
   "version": "3.9.5"
  },
  "orig_nbformat": 2,
  "kernelspec": {
   "name": "python3",
   "display_name": "Python 3.9.5  ('.2021Datathon_venv': venv)"
  },
  "metadata": {
   "interpreter": {
    "hash": "c7d8869ea13354499b1223e911de774642ce98e4c694ae7a07b9e19892bbafae"
   }
  },
  "interpreter": {
   "hash": "c7d8869ea13354499b1223e911de774642ce98e4c694ae7a07b9e19892bbafae"
  }
 },
 "nbformat": 4,
 "nbformat_minor": 2,
 "cells": [
  {
   "source": [
    "# EDA Datathon2021 by Softypo"
   ],
   "cell_type": "markdown",
   "metadata": {}
  },
  {
   "cell_type": "code",
   "execution_count": 5,
   "metadata": {},
   "outputs": [],
   "source": [
    "# Importing module libraries\n",
    "import pandas as pd\n",
    "import numpy as np\n",
    "import lasio\n",
    "import seaborn as sns\n",
    "import matplotlib.pyplot as plt\n",
    "import plotly.graph_objects as go\n",
    "import dataframe_utilities as dfutil\n",
    "import lasio_utilities as lasutil"
   ]
  },
  {
   "source": [
    "## Data loading"
   ],
   "cell_type": "markdown",
   "metadata": {}
  },
  {
   "cell_type": "code",
   "execution_count": 6,
   "metadata": {},
   "outputs": [],
   "source": [
    "target_wells = pd.read_csv('consolidated_well_data_Softypo_ft.csv', index_col=0, usecols=[0, 11])"
   ]
  },
  {
   "cell_type": "code",
   "execution_count": 7,
   "metadata": {},
   "outputs": [
    {
     "output_type": "display_data",
     "data": {
      "text/plain": "Loading LAS files:   0%|          | 0/1498 [00:00<?, ?it/s]",
      "application/vnd.jupyter.widget-view+json": {
       "version_major": 2,
       "version_minor": 0,
       "model_id": "b0ab3f90d72d417d9aebfe6e5a7d1534"
      }
     },
     "metadata": {}
    }
   ],
   "source": [
    "# las files\n",
    "lasfiles = lasutil.loader_lasio_multiprocess('Data for Datathon\\well_log_files\\Clean_LAS', outdf=False)"
   ]
  },
  {
   "source": [
    "## performing EDA on las files"
   ],
   "cell_type": "markdown",
   "metadata": {}
  },
  {
   "cell_type": "code",
   "execution_count": 8,
   "metadata": {},
   "outputs": [
    {
     "output_type": "stream",
     "name": "stdout",
     "text": [
      "target wells: 821\ntotal wells: 1498\nCanadian wells: 1023\nUS wells: 475 \n\nwells in ft: 1141\nwells in m: 357 \n\nCanadian wells in ft: 666\nUS wells in ft: 475 \n\nCanadian wells in m: 357\nUS wells in m: 0 \n\nraw wells: 835\ncleaned wells: 663\n"
     ]
    }
   ],
   "source": [
    "# target wells\n",
    "print ('target wells:', len(target_wells))\n",
    "# total wells\n",
    "print ('total wells:', len(lasfiles))\n",
    "# number of Canadian wells\n",
    "print ('Canadian wells:', len([[n, las.well.stop.unit, las.well.ctry.value] for n, las in lasfiles.items() if las.well.ctry.value in ('CANADA', 'Canada', 'CAN')]))\n",
    "# number of US wells\n",
    "print ('US wells:', len([[n, las.well.stop.unit, las.well.ctry.value] for n, las in lasfiles.items() if las.well.ctry.value in ('US', 'USA', 'UNITED STATES OF AMERICA')]), '\\n')\n",
    "# number of wells in ft\n",
    "print ('wells in ft:', len([[n, las.well.stop.unit, las.well.ctry.value] for n, las in lasfiles.items() if las.well.step.unit in ('F', 'f', 'Ft', 'FT', 'ft')]))\n",
    "# number of wells in m\n",
    "print ('wells in m:', len([[n, las.well.stop.unit, las.well.ctry.value] for n, las in lasfiles.items() if las.well.step.unit in ('M', 'm', 'meters', 'Meters', 'METERS')]), '\\n')\n",
    "# number of Canadian wells in ft\n",
    "print ('Canadian wells in ft:', len([[n, las.well.stop.unit, las.well.ctry.value] for n, las in lasfiles.items() if las.well.step.unit in ('F', 'f', 'Ft', 'FT', 'ft') and las.well.ctry.value in ('CANADA', 'Canada', 'CAN')]))\n",
    "# number of US wells in ft\n",
    "print ('US wells in ft:', len([[n, las.well.stop.unit, las.well.ctry.value] for n, las in lasfiles.items() if las.well.step.unit in ('F', 'f', 'Ft', 'FT', 'ft') and las.well.ctry.value in ('US', 'USA', 'UNITED STATES OF AMERICA')]), '\\n')\n",
    "# number of Canadian wells in m\n",
    "print ('Canadian wells in m:', len([[n, las.well.stop.unit, las.well.ctry.value] for n, las in lasfiles.items() if las.well.step.unit in ('M', 'm', 'meters', 'Meters', 'METERS') and las.well.ctry.value in ('CANADA', 'Canada', 'CAN')]))\n",
    "# number of US wells in m\n",
    "print ('US wells in m:', len([[n, las.well.stop.unit, las.well.ctry.value] for n, las in lasfiles.items() if las.well.step.unit in ('M', 'm', 'meters', 'Meters', 'METERS') and las.well.ctry.value in ('US', 'USA', 'UNITED STATES OF AMERICA')]), '\\n')\n",
    "# raw files\n",
    "print ('raw wells:', len([[n, las.well.stop.unit, las.well.ctry.value] for n, las in lasfiles.items() if n.endswith(('_w', '_W'))==False]))\n",
    "# cleaned files\n",
    "print ('cleaned wells:', len([[n, las.well.stop.unit, las.well.ctry.value] for n, las in lasfiles.items() if n.endswith(('_w', '_W'))]))"
   ]
  },
  {
   "source": [
    "## selecting las files"
   ],
   "cell_type": "markdown",
   "metadata": {}
  },
  {
   "cell_type": "code",
   "execution_count": 9,
   "metadata": {},
   "outputs": [],
   "source": [
    "# creating a list of not to be included files\n",
    "\n",
    "# raw files\n",
    "drop_raw = [n for n, las in lasfiles.items() if n.endswith(('_w', '_W'))==False]\n",
    "# cleaned files\n",
    "drop_cleaned = [n for n, las in lasfiles.items() if n.endswith(('_w', '_W'))]"
   ]
  },
  {
   "cell_type": "code",
   "execution_count": 10,
   "metadata": {},
   "outputs": [
    {
     "output_type": "display_data",
     "data": {
      "text/plain": "Loading LAS files:   0%|          | 0/1498 [00:00<?, ?it/s]",
      "application/vnd.jupyter.widget-view+json": {
       "version_major": 2,
       "version_minor": 0,
       "model_id": "2675d6f501754b248cf20e435871f0ca"
      }
     },
     "metadata": {}
    },
    {
     "output_type": "display_data",
     "data": {
      "text/plain": "LAS to Pandas Dataframe:   0%|          | 0/663 [00:00<?, ?it/s]",
      "application/vnd.jupyter.widget-view+json": {
       "version_major": 2,
       "version_minor": 0,
       "model_id": "6733d6d58dbc48b293e8d73ffe3b65bd"
      }
     },
     "metadata": {}
    }
   ],
   "source": [
    "# cleaned only las files in target\n",
    "las_wt = {n: las for n, las in (lasutil.loader_lasio_multiprocess('Data for Datathon\\well_log_files\\Clean_LAS', todrop=drop_raw, outlas=False, outdf=True)).items() if n in target_wells.index}"
   ]
  },
  {
   "cell_type": "code",
   "execution_count": 11,
   "metadata": {},
   "outputs": [
    {
     "output_type": "display_data",
     "data": {
      "text/plain": "Loading LAS files:   0%|          | 0/1498 [00:00<?, ?it/s]",
      "application/vnd.jupyter.widget-view+json": {
       "version_major": 2,
       "version_minor": 0,
       "model_id": "baba4b2cc81f4055be1d32eed4b755dc"
      }
     },
     "metadata": {}
    },
    {
     "output_type": "display_data",
     "data": {
      "text/plain": "LAS to Pandas Dataframe:   0%|          | 0/835 [00:00<?, ?it/s]",
      "application/vnd.jupyter.widget-view+json": {
       "version_major": 2,
       "version_minor": 0,
       "model_id": "e34232f429624e9c8e5bb3738a86065a"
      }
     },
     "metadata": {}
    }
   ],
   "source": [
    "# raw only las files in target\n",
    "las_rt = {n: las for n, las in (lasutil.loader_lasio_multiprocess('Data for Datathon\\well_log_files\\Clean_LAS', todrop=drop_cleaned, outlas=False, outdf=True)).items() if n in target_wells.index}"
   ]
  },
  {
   "source": [
    "## m to ft conversion"
   ],
   "cell_type": "markdown",
   "metadata": {}
  },
  {
   "cell_type": "code",
   "execution_count": 12,
   "metadata": {},
   "outputs": [],
   "source": [
    "# changing wells from m to ft\n",
    "def m_to_ft(lasdfdic):\n",
    "    for uwi, well in lasdfdic.items():\n",
    "        if well[0] in ('M', 'm'):\n",
    "            well[1].index = well[1].index*3.28084\n",
    "            well[0] = 'FT'\n",
    "            well[1].index.names = ['Depth_ft']\n",
    "m_to_ft(las_wt)\n",
    "m_to_ft(las_rt)"
   ]
  },
  {
   "source": [
    "## consolidating las cleaned and raw las files"
   ],
   "cell_type": "markdown",
   "metadata": {}
  },
  {
   "cell_type": "code",
   "execution_count": 13,
   "metadata": {},
   "outputs": [],
   "source": [
    "# adding wells raw and cleaned\n",
    "lasdf = {uwi: well[1] for uwi, well in las_rt.items()}\n",
    "lasdf.update({uwi: well[1] for uwi, well in las_wt.items()})"
   ]
  },
  {
   "cell_type": "code",
   "execution_count": 14,
   "metadata": {},
   "outputs": [
    {
     "output_type": "execute_result",
     "data": {
      "text/plain": [
       "821"
      ]
     },
     "metadata": {},
     "execution_count": 14
    }
   ],
   "source": [
    "# final number of lass files\n",
    "len(lasdf)"
   ]
  },
  {
   "source": [
    "## filtering logs and cumputing its mean"
   ],
   "cell_type": "markdown",
   "metadata": {}
  },
  {
   "cell_type": "code",
   "execution_count": 30,
   "metadata": {
    "tags": []
   },
   "outputs": [
    {
     "output_type": "display_data",
     "data": {
      "text/plain": "Searching:   0%|          | 0/821 [00:00<?, ?it/s]",
      "application/vnd.jupyter.widget-view+json": {
       "version_major": 2,
       "version_minor": 0,
       "model_id": "ea8459da37b949c1bb2bd2931e4fb0a4"
      }
     },
     "metadata": {}
    },
    {
     "output_type": "display_data",
     "data": {
      "text/plain": "Calculating mean:   0%|          | 0/819 [00:00<?, ?it/s]",
      "application/vnd.jupyter.widget-view+json": {
       "version_major": 2,
       "version_minor": 0,
       "model_id": "eba340816e824c428e7d953a6b820327"
      }
     },
     "metadata": {}
    }
   ],
   "source": [
    "# filtering and calculating logs mean\n",
    "lasfiltered = lasutil.filter(lasdf, ('GR', 'ILD', 'RHO', 'NPHI', 'DT', 'PEF'), mean=True)"
   ]
  },
  {
   "cell_type": "code",
   "execution_count": 31,
   "metadata": {
    "tags": [
     "outputPrepend"
    ]
   },
   "outputs": [
    {
     "output_type": "stream",
     "name": "stdout",
     "text": [
      "051309240000 Index(['GR', 'ILD', 'RHO', 'NPHI', 'DT', 'PEF'], dtype='object')\n42051309360000 Index(['GR', 'ILD', 'RHO', 'NPHI', 'DT', 'PEF'], dtype='object')\n42051309370000 Index(['GR', 'ILD', 'RHO', 'NPHI', 'DT', 'PEF'], dtype='object')\n42051309430000 Index(['GR', 'ILD', 'RHO', 'NPHI', 'DT', 'PEF'], dtype='object')\n42051309640000 Index(['GR', 'ILD', 'RHO', 'NPHI', 'DT', 'PEF'], dtype='object')\n42051309880000 Index(['GR', 'ILD', 'RHO', 'NPHI', 'DT', 'PEF'], dtype='object')\n42051309940000 Index(['GR', 'ILD', 'RHO', 'NPHI', 'DT', 'PEF'], dtype='object')\n42051310100000 Index(['GR', 'ILD', 'RHO', 'NPHI', 'DT', 'PEF'], dtype='object')\n42051310320000 Index(['GR', 'ILD', 'RHO', 'NPHI', 'DT', 'PEF'], dtype='object')\n42051310330000 Index(['GR', 'ILD', 'RHO', 'NPHI', 'DT', 'PEF'], dtype='object')\n42051310430000 Index(['GR', 'ILD', 'RHO', 'NPHI', 'DT', 'PEF'], dtype='object')\n42051310480000 Index(['GR', 'ILD', 'RHO', 'NPHI', 'DT', 'PEF'], dtype='object')\n42051310530000 Index(['GR', 'ILD', 'RHO', 'NPHI', 'DT', 'PEF'], dtype='object')\n42051310590000 Index(['GR', 'ILD', 'RHO', 'NPHI', 'DT', 'PEF'], dtype='object')\n42051310600000 Index(['GR', 'ILD', 'RHO', 'NPHI', 'DT', 'PEF'], dtype='object')\n42051311590000 Index(['GR', 'ILD', 'RHO', 'NPHI', 'DT', 'PEF'], dtype='object')\n42051312330000 Index(['GR', 'ILD', 'RHO', 'NPHI', 'DT', 'PEF'], dtype='object')\n42051312420000 Index(['GR', 'ILD', 'RHO', 'NPHI', 'DT', 'PEF'], dtype='object')\n42051313870000 Index(['GR', 'ILD', 'RHO', 'NPHI', 'DT', 'PEF'], dtype='object')\n42051314350000 Index(['GR', 'ILD', 'RHO', 'NPHI', 'DT', 'PEF'], dtype='object')\n42051314640000 Index(['GR', 'ILD', 'RHO', 'NPHI', 'DT', 'PEF'], dtype='object')\n42051315010000 Index(['GR', 'ILD', 'RHO', 'NPHI', 'DT', 'PEF'], dtype='object')\n42051315180000 Index(['GR', 'ILD', 'RHO', 'NPHI', 'DT', 'PEF'], dtype='object')\n42051315190000 Index(['GR', 'ILD', 'RHO', 'NPHI', 'DT', 'PEF'], dtype='object')\n42051315580000 Index(['GR', 'ILD', 'RHO', 'NPHI', 'DT', 'PEF'], dtype='object')\n42051315590000 Index(['GR', 'ILD', 'RHO', 'NPHI', 'DT', 'PEF'], dtype='object')\n42051316200000 Index(['GR', 'ILD', 'RHO', 'NPHI', 'DT', 'PEF'], dtype='object')\n42051316460000 Index(['GR', 'ILD', 'RHO', 'NPHI', 'DT', 'PEF'], dtype='object')\n42051316590000 Index(['GR', 'ILD', 'RHO', 'NPHI', 'DT', 'PEF'], dtype='object')\n42051317340000 Index(['GR', 'ILD', 'RHO', 'NPHI', 'DT', 'PEF'], dtype='object')\n42051317410000 Index(['GR', 'ILD', 'RHO', 'NPHI', 'DT', 'PEF'], dtype='object')\n42051317780000 Index(['GR', 'ILD', 'RHO', 'NPHI', 'DT', 'PEF'], dtype='object')\n42051318310000 Index(['GR', 'ILD', 'RHO', 'NPHI', 'DT', 'PEF'], dtype='object')\n42051318560000 Index(['GR', 'ILD', 'RHO', 'NPHI', 'DT', 'PEF'], dtype='object')\n42051319560000 Index(['GR', 'ILD', 'RHO', 'NPHI', 'DT', 'PEF'], dtype='object')\n42051325170000 Index(['GR', 'ILD', 'RHO', 'NPHI', 'DT', 'PEF'], dtype='object')\n42051325270000 Index(['GR', 'ILD', 'RHO', 'NPHI', 'DT', 'PEF'], dtype='object')\n42051325800000 Index(['GR', 'ILD', 'RHO', 'NPHI', 'DT', 'PEF'], dtype='object')\n42051326000000 Index(['GR', 'ILD', 'RHO', 'NPHI', 'DT', 'PEF'], dtype='object')\n42051326100000 Index(['GR', 'ILD', 'RHO', 'NPHI', 'DT', 'PEF'], dtype='object')\n42051327690000 Index(['GR', 'ILD', 'RHO', 'NPHI', 'DT', 'PEF'], dtype='object')\n42051327840000 Index(['GR', 'ILD', 'RHO', 'NPHI', 'DT', 'PEF'], dtype='object')\n42123303590000 Index(['GR', 'ILD', 'RHO', 'NPHI', 'DT', 'PEF'], dtype='object')\n42123309360000 Index(['GR', 'ILD', 'RHO', 'NPHI', 'DT', 'PEF'], dtype='object')\n42123309670000 Index(['GR', 'ILD', 'RHO', 'NPHI', 'DT', 'PEF'], dtype='object')\n42123309750000 Index(['GR', 'ILD', 'RHO', 'NPHI', 'DT', 'PEF'], dtype='object')\n42123309830000 Index(['GR', 'ILD', 'RHO', 'NPHI', 'DT', 'PEF'], dtype='object')\n42123310090000 Index(['GR', 'ILD', 'RHO', 'NPHI', 'DT', 'PEF'], dtype='object')\n42127000690000 Index(['GR', 'ILD', 'RHO', 'NPHI', 'DT', 'PEF'], dtype='object')\n42127301140000 Index(['GR', 'ILD', 'RHO', 'NPHI', 'DT', 'PEF'], dtype='object')\n42127308630000 Index(['GR', 'ILD', 'RHO', 'NPHI', 'DT', 'PEF'], dtype='object')\n42127309400000 Index(['GR', 'ILD', 'RHO', 'NPHI', 'DT', 'PEF'], dtype='object')\n42127310470000 Index(['GR', 'ILD', 'RHO', 'NPHI', 'DT', 'PEF'], dtype='object')\n42127310890000 Index(['GR', 'ILD', 'RHO', 'NPHI', 'DT', 'PEF'], dtype='object')\n42127311200000 Index(['GR', 'ILD', 'RHO', 'NPHI', 'DT', 'PEF'], dtype='object')\n42127311560000 Index(['GR', 'ILD', 'RHO', 'NPHI', 'DT', 'PEF'], dtype='object')\n42127311570000 Index(['GR', 'ILD', 'RHO', 'NPHI', 'DT', 'PEF'], dtype='object')\n42127311860000 Index(['GR', 'ILD', 'RHO', 'NPHI', 'DT', 'PEF'], dtype='object')\n42127311880000 Index(['GR', 'ILD', 'RHO', 'NPHI', 'DT', 'PEF'], dtype='object')\n42127311920000 Index(['GR', 'ILD', 'RHO', 'NPHI', 'DT', 'PEF'], dtype='object')\n42127312130000 Index(['GR', 'ILD', 'RHO', 'NPHI', 'DT', 'PEF'], dtype='object')\n42127315410000 Index(['GR', 'ILD', 'RHO', 'NPHI', 'DT', 'PEF'], dtype='object')\n42127315740000 Index(['GR', 'ILD', 'RHO', 'NPHI', 'DT', 'PEF'], dtype='object')\n42127316180000 Index(['GR', 'ILD', 'RHO', 'NPHI', 'DT', 'PEF'], dtype='object')\n42127316900000 Index(['GR', 'ILD', 'RHO', 'NPHI', 'DT', 'PEF'], dtype='object')\n42127317010000 Index(['GR', 'ILD', 'RHO', 'NPHI', 'DT', 'PEF'], dtype='object')\n42127317020000 Index(['GR', 'ILD', 'RHO', 'NPHI', 'DT', 'PEF'], dtype='object')\n42127317180000 Index(['GR', 'ILD', 'RHO', 'NPHI', 'DT', 'PEF'], dtype='object')\n42127317320000 Index(['GR', 'ILD', 'RHO', 'NPHI', 'DT', 'PEF'], dtype='object')\n42127317560000 Index(['GR', 'ILD', 'RHO', 'NPHI', 'DT', 'PEF'], dtype='object')\n42127318560000 Index(['GR', 'ILD', 'RHO', 'NPHI', 'DT', 'PEF'], dtype='object')\n42127322920000 Index(['GR', 'ILD', 'RHO', 'NPHI', 'DT', 'PEF'], dtype='object')\n42127323000000 Index(['GR', 'ILD', 'RHO', 'NPHI', 'DT', 'PEF'], dtype='object')\n42127328970000 Index(['GR', 'ILD', 'RHO', 'NPHI', 'DT', 'PEF'], dtype='object')\n42127332970000 Index(['GR', 'ILD', 'RHO', 'NPHI', 'DT', 'PEF'], dtype='object')\n42149304080000 Index(['GR', 'ILD', 'RHO', 'NPHI', 'DT', 'PEF'], dtype='object')\n42149304890000 Index(['GR', 'ILD', 'RHO', 'NPHI', 'DT', 'PEF'], dtype='object')\n42149305140000 Index(['GR', 'ILD', 'RHO', 'NPHI', 'DT', 'PEF'], dtype='object')\n42149305750000 Index(['GR', 'ILD', 'RHO', 'NPHI', 'DT', 'PEF'], dtype='object')\n42149305880000 Index(['GR', 'ILD', 'RHO', 'NPHI', 'DT', 'PEF'], dtype='object')\n42149307960000 Index(['GR', 'ILD', 'RHO', 'NPHI', 'DT', 'PEF'], dtype='object')\n42149308070000 Index(['GR', 'ILD', 'RHO', 'NPHI', 'DT', 'PEF'], dtype='object')\n42149308390000 Index(['GR', 'ILD', 'RHO', 'NPHI', 'DT', 'PEF'], dtype='object')\n42149308450000 Index(['GR', 'ILD', 'RHO', 'NPHI', 'DT', 'PEF'], dtype='object')\n42149323530000 Index(['GR', 'ILD', 'RHO', 'NPHI', 'DT', 'PEF'], dtype='object')\n42149324840000 Index(['GR', 'ILD', 'RHO', 'NPHI', 'DT', 'PEF'], dtype='object')\n42149325050000 Index(['GR', 'ILD', 'RHO', 'NPHI', 'DT', 'PEF'], dtype='object')\n42161304400000 Index(['GR', 'ILD', 'RHO', 'NPHI', 'DT', 'PEF'], dtype='object')\n42163304780000 Index(['GR', 'ILD', 'RHO', 'NPHI', 'DT', 'PEF'], dtype='object')\n42163306230000 Index(['GR', 'ILD', 'RHO', 'NPHI', 'DT', 'PEF'], dtype='object')\n42163307280000 Index(['GR', 'ILD', 'RHO', 'NPHI', 'DT', 'PEF'], dtype='object')\n42163317830000 Index(['GR', 'ILD', 'RHO', 'NPHI', 'DT', 'PEF'], dtype='object')\n42177301620000 Index(['GR', 'ILD', 'RHO', 'NPHI', 'DT', 'PEF'], dtype='object')\n42177302180000 Index(['GR', 'ILD', 'RHO', 'NPHI', 'DT', 'PEF'], dtype='object')\n42177305970000 Index(['GR', 'ILD', 'RHO', 'NPHI', 'DT', 'PEF'], dtype='object')\n42177306900000 Index(['GR', 'ILD', 'RHO', 'NPHI', 'DT', 'PEF'], dtype='object')\n42177306920000 Index(['GR', 'ILD', 'RHO', 'NPHI', 'DT', 'PEF'], dtype='object')\n42177307020000 Index(['GR', 'ILD', 'RHO', 'NPHI', 'DT', 'PEF'], dtype='object')\n42177307630000 Index(['GR', 'ILD', 'RHO', 'NPHI', 'DT', 'PEF'], dtype='object')\n42177307700000 Index(['GR', 'ILD', 'RHO', 'NPHI', 'DT', 'PEF'], dtype='object')\n42177308050000 Index(['GR', 'ILD', 'RHO', 'NPHI', 'DT', 'PEF'], dtype='object')\n42177308170000 Index(['GR', 'ILD', 'RHO', 'NPHI', 'DT', 'PEF'], dtype='object')\n42177308260000 Index(['GR', 'ILD', 'RHO', 'NPHI', 'DT', 'PEF'], dtype='object')\n42177308270000 Index(['GR', 'ILD', 'RHO', 'NPHI', 'DT', 'PEF'], dtype='object')\n42177308300000 Index(['GR', 'ILD', 'RHO', 'NPHI', 'DT', 'PEF'], dtype='object')\n42177308340000 Index(['GR', 'ILD', 'RHO', 'NPHI', 'DT', 'PEF'], dtype='object')\n42177309080000 Index(['GR', 'ILD', 'RHO', 'NPHI', 'DT', 'PEF'], dtype='object')\n42177309100000 Index(['GR', 'ILD', 'RHO', 'NPHI', 'DT', 'PEF'], dtype='object')\n42177309400000 Index(['GR', 'ILD', 'RHO', 'NPHI', 'DT', 'PEF'], dtype='object')\n42177309850000 Index(['GR', 'ILD', 'RHO', 'NPHI', 'DT', 'PEF'], dtype='object')\n42177313020000 Index(['GR', 'ILD', 'RHO', 'NPHI', 'DT', 'PEF'], dtype='object')\n42177314470000 Index(['GR', 'ILD', 'RHO', 'NPHI', 'DT', 'PEF'], dtype='object')\n42177314700000 Index(['GR', 'ILD', 'RHO', 'NPHI', 'DT', 'PEF'], dtype='object')\n42177315540000 Index(['GR', 'ILD', 'RHO', 'NPHI', 'DT', 'PEF'], dtype='object')\n42177319460000 Index(['GR', 'ILD', 'RHO', 'NPHI', 'DT', 'PEF'], dtype='object')\n42177320060000 Index(['GR', 'ILD', 'RHO', 'NPHI', 'DT', 'PEF'], dtype='object')\n42177320410000 Index(['GR', 'ILD', 'RHO', 'NPHI', 'DT', 'PEF'], dtype='object')\n42185302150000 Index(['GR', 'ILD', 'RHO', 'NPHI', 'DT', 'PEF'], dtype='object')\n42185302670000 Index(['GR', 'ILD', 'RHO', 'NPHI', 'DT', 'PEF'], dtype='object')\n42185302710000 Index(['GR', 'ILD', 'RHO', 'NPHI', 'DT', 'PEF'], dtype='object')\n42185302840000 Index(['GR', 'ILD', 'RHO', 'NPHI', 'DT', 'PEF'], dtype='object')\n42185304230000 Index(['GR', 'ILD', 'RHO', 'NPHI', 'DT', 'PEF'], dtype='object')\n42225004270000 Index(['GR', 'ILD', 'RHO', 'NPHI', 'DT', 'PEF'], dtype='object')\n42225305060000 Index(['GR', 'ILD', 'RHO', 'NPHI', 'DT', 'PEF'], dtype='object')\n42255300590000 Index(['GR', 'ILD', 'RHO', 'NPHI', 'DT', 'PEF'], dtype='object')\n42255305980000 Index(['GR', 'ILD', 'RHO', 'NPHI', 'DT', 'PEF'], dtype='object')\n42255307210000 Index(['GR', 'ILD', 'RHO', 'NPHI', 'DT', 'PEF'], dtype='object')\n42255311960000 Index(['GR', 'ILD', 'RHO', 'NPHI', 'DT', 'PEF'], dtype='object')\n42255312470000 Index(['GR', 'ILD', 'RHO', 'NPHI', 'DT', 'PEF'], dtype='object')\n42255313650000 Index(['GR', 'ILD', 'RHO', 'NPHI', 'DT', 'PEF'], dtype='object')\n42283002040000 Index(['GR', 'ILD', 'RHO', 'NPHI', 'DT', 'PEF'], dtype='object')\n42283307300000 Index(['GR', 'ILD', 'RHO', 'NPHI', 'DT', 'PEF'], dtype='object')\n42283309180000 Index(['GR', 'ILD', 'RHO', 'NPHI', 'DT', 'PEF'], dtype='object')\n42283310960000 Index(['GR', 'ILD', 'RHO', 'NPHI', 'DT', 'PEF'], dtype='object')\n42283314640000 Index(['GR', 'ILD', 'RHO', 'NPHI', 'DT', 'PEF'], dtype='object')\n42283314670000 Index(['GR', 'ILD', 'RHO', 'NPHI', 'DT', 'PEF'], dtype='object')\n42283315220000 Index(['GR', 'ILD', 'RHO', 'NPHI', 'DT', 'PEF'], dtype='object')\n42283315230000 Index(['GR', 'ILD', 'RHO', 'NPHI', 'DT', 'PEF'], dtype='object')\n42283315400000 Index(['GR', 'ILD', 'RHO', 'NPHI', 'DT', 'PEF'], dtype='object')\n42283315470000 Index(['GR', 'ILD', 'RHO', 'NPHI', 'DT', 'PEF'], dtype='object')\n42283315560000 Index(['GR', 'ILD', 'RHO', 'NPHI', 'DT', 'PEF'], dtype='object')\n42283315610000 Index(['GR', 'ILD', 'RHO', 'NPHI', 'DT', 'PEF'], dtype='object')\n42285307220000 Index(['GR', 'ILD', 'RHO', 'NPHI', 'DT', 'PEF'], dtype='object')\n42285313800000 Index(['GR', 'ILD', 'RHO', 'NPHI', 'DT', 'PEF'], dtype='object')\n42285315200000 Index(['GR', 'ILD', 'RHO', 'NPHI', 'DT', 'PEF'], dtype='object')\n42287305100000 Index(['GR', 'ILD', 'RHO', 'NPHI', 'DT', 'PEF'], dtype='object')\n42287305130000 Index(['GR', 'ILD', 'RHO', 'NPHI', 'DT', 'PEF'], dtype='object')\n42287306420000 Index(['GR', 'ILD', 'RHO', 'NPHI', 'DT', 'PEF'], dtype='object')\n42287309060000 Index(['GR', 'ILD', 'RHO', 'NPHI', 'DT', 'PEF'], dtype='object')\n42287309140000 Index(['GR', 'ILD', 'RHO', 'NPHI', 'DT', 'PEF'], dtype='object')\n42287309240000 Index(['GR', 'ILD', 'RHO', 'NPHI', 'DT', 'PEF'], dtype='object')\n42287309370000 Index(['GR', 'ILD', 'RHO', 'NPHI', 'DT', 'PEF'], dtype='object')\n42287309540000 Index(['GR', 'ILD', 'RHO', 'NPHI', 'DT', 'PEF'], dtype='object')\n42287312020000 Index(['GR', 'ILD', 'RHO', 'NPHI', 'DT', 'PEF'], dtype='object')\n42287312490000 Index(['GR', 'ILD', 'RHO', 'NPHI', 'DT', 'PEF'], dtype='object')\n42287312500000 Index(['GR', 'ILD', 'RHO', 'NPHI', 'DT', 'PEF'], dtype='object')\n42287312830000 Index(['GR', 'ILD', 'RHO', 'NPHI', 'DT', 'PEF'], dtype='object')\n42287315320000 Index(['GR', 'ILD', 'RHO', 'NPHI', 'DT', 'PEF'], dtype='object')\n42287325030000 Index(['GR', 'ILD', 'RHO', 'NPHI', 'DT', 'PEF'], dtype='object')\n42287325060000 Index(['GR', 'ILD', 'RHO', 'NPHI', 'DT', 'PEF'], dtype='object')\n42289301060000 Index(['GR', 'ILD', 'RHO', 'NPHI', 'DT', 'PEF'], dtype='object')\n42289303540000 Index(['GR', 'ILD', 'RHO', 'NPHI', 'DT', 'PEF'], dtype='object')\n42289304430000 Index(['GR', 'ILD', 'RHO', 'NPHI', 'DT', 'PEF'], dtype='object')\n42289304700000 Index(['GR', 'ILD', 'RHO', 'NPHI', 'DT', 'PEF'], dtype='object')\n42289305780000 Index(['GR', 'ILD', 'RHO', 'NPHI', 'DT', 'PEF'], dtype='object')\n42289306600000 Index(['GR', 'ILD', 'RHO', 'NPHI', 'DT', 'PEF'], dtype='object')\n42289306650000 Index(['GR', 'ILD', 'RHO', 'NPHI', 'DT', 'PEF'], dtype='object')\n42289308110000 Index(['GR', 'ILD', 'RHO', 'NPHI', 'DT', 'PEF'], dtype='object')\n42289309370000 Index(['GR', 'ILD', 'RHO', 'NPHI', 'DT', 'PEF'], dtype='object')\n42289309440000 Index(['GR', 'ILD', 'RHO', 'NPHI', 'DT', 'PEF'], dtype='object')\n42289309510000 Index(['GR', 'ILD', 'RHO', 'NPHI', 'DT', 'PEF'], dtype='object')\n42289309850000 Index(['GR', 'ILD', 'RHO', 'NPHI', 'DT', 'PEF'], dtype='object')\n42289310220000 Index(['GR', 'ILD', 'RHO', 'NPHI', 'DT', 'PEF'], dtype='object')\n42289310900000 Index(['GR', 'ILD', 'RHO', 'NPHI', 'DT', 'PEF'], dtype='object')\n42289310950000 Index(['GR', 'ILD', 'RHO', 'NPHI', 'DT', 'PEF'], dtype='object')\n42289311110000 Index(['GR', 'ILD', 'RHO', 'NPHI', 'DT', 'PEF'], dtype='object')\n42289312310000 Index(['GR', 'ILD', 'RHO', 'NPHI', 'DT', 'PEF'], dtype='object')\n42289312660000 Index(['GR', 'ILD', 'RHO', 'NPHI', 'DT', 'PEF'], dtype='object')\n42289312770000 Index(['GR', 'ILD', 'RHO', 'NPHI', 'DT', 'PEF'], dtype='object')\n42289312850000 Index(['GR', 'ILD', 'RHO', 'NPHI', 'DT', 'PEF'], dtype='object')\n42289312900000 Index(['GR', 'ILD', 'RHO', 'NPHI', 'DT', 'PEF'], dtype='object')\n42289313060000 Index(['GR', 'ILD', 'RHO', 'NPHI', 'DT', 'PEF'], dtype='object')\n42289313140000 Index(['GR', 'ILD', 'RHO', 'NPHI', 'DT', 'PEF'], dtype='object')\n42289313210000 Index(['GR', 'ILD', 'RHO', 'NPHI', 'DT', 'PEF'], dtype='object')\n42289313250000 Index(['GR', 'ILD', 'RHO', 'NPHI', 'DT', 'PEF'], dtype='object')\n42289315440000 Index(['GR', 'ILD', 'RHO', 'NPHI', 'DT', 'PEF'], dtype='object')\n42289318670000 Index(['GR', 'ILD', 'RHO', 'NPHI', 'DT', 'PEF'], dtype='object')\n42293304160000 Index(['GR', 'ILD', 'RHO', 'NPHI', 'DT', 'PEF'], dtype='object')\n42293304380000 Index(['GR', 'ILD', 'RHO', 'NPHI', 'DT', 'PEF'], dtype='object')\n42293304520000 Index(['GR', 'ILD', 'RHO', 'NPHI', 'DT', 'PEF'], dtype='object')\n42293305010000 Index(['GR', 'ILD', 'RHO', 'NPHI', 'DT', 'PEF'], dtype='object')\n42293308740000 Index(['GR', 'ILD', 'RHO', 'NPHI', 'DT', 'PEF'], dtype='object')\n42293309280000 Index(['GR', 'ILD', 'RHO', 'NPHI', 'DT', 'PEF'], dtype='object')\n42293312300000 Index(['GR', 'ILD', 'RHO', 'NPHI', 'DT', 'PEF'], dtype='object')\n42311001580000 Index(['GR', 'ILD', 'RHO', 'NPHI', 'DT', 'PEF'], dtype='object')\n42311006770000 Index(['GR', 'ILD', 'RHO', 'NPHI', 'DT', 'PEF'], dtype='object')\n42311013640000 Index(['GR', 'ILD', 'RHO', 'NPHI', 'DT', 'PEF'], dtype='object')\n42311317850000 Index(['GR', 'ILD', 'RHO', 'NPHI', 'DT', 'PEF'], dtype='object')\n42313300420000 Index(['GR', 'ILD', 'RHO', 'NPHI', 'DT', 'PEF'], dtype='object')\n42313302370000 Index(['GR', 'ILD', 'RHO', 'NPHI', 'DT', 'PEF'], dtype='object')\n42313302910000 Index(['GR', 'ILD', 'RHO', 'NPHI', 'DT', 'PEF'], dtype='object')\n42313304420000 Index(['GR', 'ILD', 'RHO', 'NPHI', 'DT', 'PEF'], dtype='object')\n42313305590000 Index(['GR', 'ILD', 'RHO', 'NPHI', 'DT', 'PEF'], dtype='object')\n42313311010000 Index(['GR', 'ILD', 'RHO', 'NPHI', 'DT', 'PEF'], dtype='object')\n42323000820000 Index(['GR', 'ILD', 'RHO', 'NPHI', 'DT', 'PEF'], dtype='object')\n42323300710000 Index(['GR', 'ILD', 'RHO', 'NPHI', 'DT', 'PEF'], dtype='object')\n42323300720000 Index(['GR', 'ILD', 'RHO', 'NPHI', 'DT', 'PEF'], dtype='object')\n42323306640000 Index(['GR', 'ILD', 'RHO', 'NPHI', 'DT', 'PEF'], dtype='object')\n42323307960000 Index(['GR', 'ILD', 'RHO', 'NPHI', 'DT', 'PEF'], dtype='object')\n42323312460000 Index(['GR', 'ILD', 'RHO', 'NPHI', 'DT', 'PEF'], dtype='object')\n42323312560000 Index(['GR', 'ILD', 'RHO', 'NPHI', 'DT', 'PEF'], dtype='object')\n42323312660000 Index(['GR', 'ILD', 'RHO', 'NPHI', 'DT', 'PEF'], dtype='object')\n42323324740000 Index(['GR', 'ILD', 'RHO', 'NPHI', 'DT', 'PEF'], dtype='object')\n42323329160000 Index(['GR', 'ILD', 'RHO', 'NPHI', 'DT', 'PEF'], dtype='object')\n42395300370000 Index(['GR', 'ILD', 'RHO', 'NPHI', 'DT', 'PEF'], dtype='object')\n42395302780000 Index(['GR', 'ILD', 'RHO', 'NPHI', 'DT', 'PEF'], dtype='object')\n42395302880000 Index(['GR', 'ILD', 'RHO', 'NPHI', 'DT', 'PEF'], dtype='object')\n42395302890000 Index(['GR', 'ILD', 'RHO', 'NPHI', 'DT', 'PEF'], dtype='object')\n42395303030000 Index(['GR', 'ILD', 'RHO', 'NPHI', 'DT', 'PEF'], dtype='object')\n42395303790000 Index(['GR', 'ILD', 'RHO', 'NPHI', 'DT', 'PEF'], dtype='object')\n42395304350000 Index(['GR', 'ILD', 'RHO', 'NPHI', 'DT', 'PEF'], dtype='object')\n42395304440000 Index(['GR', 'ILD', 'RHO', 'NPHI', 'DT', 'PEF'], dtype='object')\n42395304830000 Index(['GR', 'ILD', 'RHO', 'NPHI', 'DT', 'PEF'], dtype='object')\n42395307330000 Index(['GR', 'ILD', 'RHO', 'NPHI', 'DT', 'PEF'], dtype='object')\n42477303240000 Index(['GR', 'ILD', 'RHO', 'NPHI', 'DT', 'PEF'], dtype='object')\n42477304680000 Index(['GR', 'ILD', 'RHO', 'NPHI', 'DT', 'PEF'], dtype='object')\n42477305280000 Index(['GR', 'ILD', 'RHO', 'NPHI', 'DT', 'PEF'], dtype='object')\n42477305490000 Index(['GR', 'ILD', 'RHO', 'NPHI', 'DT', 'PEF'], dtype='object')\n42479352780000 Index(['GR', 'ILD', 'RHO', 'NPHI', 'DT', 'PEF'], dtype='object')\n42493302300000 Index(['GR', 'ILD', 'RHO', 'NPHI', 'DT', 'PEF'], dtype='object')\n42493303910000 Index(['GR', 'ILD', 'RHO', 'NPHI', 'DT', 'PEF'], dtype='object')\n42493306840000 Index(['GR', 'ILD', 'RHO', 'NPHI', 'DT', 'PEF'], dtype='object')\n42493307780000 Index(['GR', 'ILD', 'RHO', 'NPHI', 'DT', 'PEF'], dtype='object')\n42493308380000 Index(['GR', 'ILD', 'RHO', 'NPHI', 'DT', 'PEF'], dtype='object')\n42493309720000 Index(['GR', 'ILD', 'RHO', 'NPHI', 'DT', 'PEF'], dtype='object')\n42493310750000 Index(['GR', 'ILD', 'RHO', 'NPHI', 'DT', 'PEF'], dtype='object')\n42493311060000 Index(['GR', 'ILD', 'RHO', 'NPHI', 'DT', 'PEF'], dtype='object')\n42493311680000 Index(['GR', 'ILD', 'RHO', 'NPHI', 'DT', 'PEF'], dtype='object')\n42493312560000 Index(['GR', 'ILD', 'RHO', 'NPHI', 'DT', 'PEF'], dtype='object')\n42493316260000 Index(['GR', 'ILD', 'RHO', 'NPHI', 'DT', 'PEF'], dtype='object')\n42493316680000 Index(['GR', 'ILD', 'RHO', 'NPHI', 'DT', 'PEF'], dtype='object')\n42493317790000 Index(['GR', 'ILD', 'RHO', 'NPHI', 'DT', 'PEF'], dtype='object')\n42493318190000 Index(['GR', 'ILD', 'RHO', 'NPHI', 'DT', 'PEF'], dtype='object')\n42493319370000 Index(['GR', 'ILD', 'RHO', 'NPHI', 'DT', 'PEF'], dtype='object')\n42493322270000 Index(['GR', 'ILD', 'RHO', 'NPHI', 'DT', 'PEF'], dtype='object')\n42507007550000 Index(['GR', 'ILD', 'RHO', 'NPHI', 'DT', 'PEF'], dtype='object')\n42507312420000 Index(['GR', 'ILD', 'RHO', 'NPHI', 'DT', 'PEF'], dtype='object')\n42507312960000 Index(['GR', 'ILD', 'RHO', 'NPHI', 'DT', 'PEF'], dtype='object')\n42507326870000 Index(['GR', 'ILD', 'RHO', 'NPHI', 'DT', 'PEF'], dtype='object')\n100101506718W500 Index(['GR', 'ILD', 'RHO', 'NPHI', 'DT', 'PEF'], dtype='object')\n"
     ]
    },
    {
     "output_type": "execute_result",
     "data": {
      "text/plain": [
       "819"
      ]
     },
     "metadata": {},
     "execution_count": 31
    }
   ],
   "source": [
    "# filered wells\n",
    "len([print(n, df.columns) for n, df in lasfiltered.items()])"
   ]
  },
  {
   "cell_type": "code",
   "execution_count": 19,
   "metadata": {},
   "outputs": [
    {
     "output_type": "execute_result",
     "data": {
      "text/plain": [
       "             GR     ILD     RHO    NPHI        DT  PEF\n",
       "DEPT                                                  \n",
       "3500.0  61.1774  9.4672  2.2969  0.2977   95.6049  NaN\n",
       "3550.0  74.7407  6.1281  2.2646  0.3555   99.9970  NaN\n",
       "3600.0  72.4716  4.5043  2.1911  0.3709  102.3559  NaN\n",
       "3650.0  82.3895  4.2962  2.2835  0.3190  101.0276  NaN\n",
       "3700.0  52.8176  3.5596  2.1695  0.3748  103.8290  NaN\n",
       "...         ...     ...     ...     ...       ...  ...\n",
       "8050.0  83.6835  3.2762  2.4479  0.3786   96.7125  NaN\n",
       "8100.0  92.1415  3.8812  2.2545  0.3818   98.3479  NaN\n",
       "8150.0  53.4992     NaN     NaN     NaN       NaN  NaN\n",
       "8200.0  52.6284  7.1496     NaN     NaN       NaN  NaN\n",
       "8250.0  70.2425  9.6681     NaN     NaN       NaN  NaN\n",
       "\n",
       "[96 rows x 6 columns]"
      ],
      "text/html": "<div>\n<style scoped>\n    .dataframe tbody tr th:only-of-type {\n        vertical-align: middle;\n    }\n\n    .dataframe tbody tr th {\n        vertical-align: top;\n    }\n\n    .dataframe thead th {\n        text-align: right;\n    }\n</style>\n<table border=\"1\" class=\"dataframe\">\n  <thead>\n    <tr style=\"text-align: right;\">\n      <th></th>\n      <th>GR</th>\n      <th>ILD</th>\n      <th>RHO</th>\n      <th>NPHI</th>\n      <th>DT</th>\n      <th>PEF</th>\n    </tr>\n    <tr>\n      <th>DEPT</th>\n      <th></th>\n      <th></th>\n      <th></th>\n      <th></th>\n      <th></th>\n      <th></th>\n    </tr>\n  </thead>\n  <tbody>\n    <tr>\n      <th>3500.0</th>\n      <td>61.1774</td>\n      <td>9.4672</td>\n      <td>2.2969</td>\n      <td>0.2977</td>\n      <td>95.6049</td>\n      <td>NaN</td>\n    </tr>\n    <tr>\n      <th>3550.0</th>\n      <td>74.7407</td>\n      <td>6.1281</td>\n      <td>2.2646</td>\n      <td>0.3555</td>\n      <td>99.9970</td>\n      <td>NaN</td>\n    </tr>\n    <tr>\n      <th>3600.0</th>\n      <td>72.4716</td>\n      <td>4.5043</td>\n      <td>2.1911</td>\n      <td>0.3709</td>\n      <td>102.3559</td>\n      <td>NaN</td>\n    </tr>\n    <tr>\n      <th>3650.0</th>\n      <td>82.3895</td>\n      <td>4.2962</td>\n      <td>2.2835</td>\n      <td>0.3190</td>\n      <td>101.0276</td>\n      <td>NaN</td>\n    </tr>\n    <tr>\n      <th>3700.0</th>\n      <td>52.8176</td>\n      <td>3.5596</td>\n      <td>2.1695</td>\n      <td>0.3748</td>\n      <td>103.8290</td>\n      <td>NaN</td>\n    </tr>\n    <tr>\n      <th>...</th>\n      <td>...</td>\n      <td>...</td>\n      <td>...</td>\n      <td>...</td>\n      <td>...</td>\n      <td>...</td>\n    </tr>\n    <tr>\n      <th>8050.0</th>\n      <td>83.6835</td>\n      <td>3.2762</td>\n      <td>2.4479</td>\n      <td>0.3786</td>\n      <td>96.7125</td>\n      <td>NaN</td>\n    </tr>\n    <tr>\n      <th>8100.0</th>\n      <td>92.1415</td>\n      <td>3.8812</td>\n      <td>2.2545</td>\n      <td>0.3818</td>\n      <td>98.3479</td>\n      <td>NaN</td>\n    </tr>\n    <tr>\n      <th>8150.0</th>\n      <td>53.4992</td>\n      <td>NaN</td>\n      <td>NaN</td>\n      <td>NaN</td>\n      <td>NaN</td>\n      <td>NaN</td>\n    </tr>\n    <tr>\n      <th>8200.0</th>\n      <td>52.6284</td>\n      <td>7.1496</td>\n      <td>NaN</td>\n      <td>NaN</td>\n      <td>NaN</td>\n      <td>NaN</td>\n    </tr>\n    <tr>\n      <th>8250.0</th>\n      <td>70.2425</td>\n      <td>9.6681</td>\n      <td>NaN</td>\n      <td>NaN</td>\n      <td>NaN</td>\n      <td>NaN</td>\n    </tr>\n  </tbody>\n</table>\n<p>96 rows × 6 columns</p>\n</div>"
     },
     "metadata": {},
     "execution_count": 19
    }
   ],
   "source": [
    "# sample well\n",
    "lasfiltered['42041304690000']"
   ]
  },
  {
   "cell_type": "code",
   "execution_count": 41,
   "metadata": {},
   "outputs": [],
   "source": [
    "def to_target(las, target):\n",
    "    for uwi, welllogs in las.items():\n",
    "        targetdepth = float(target['BHT_md_ft'].loc[target.index==uwi])\n",
    "        if 'df' not in locals(): df = pd.DataFrame(target, columns=welllogs.columns)\n",
    "        for logname in welllogs:\n",
    "            targetvalue = welllogs[logname].iloc[(abs(welllogs[logname].index.values-targetdepth)).argsort()[:2]].mean()\n",
    "            df[logname].loc[df.index==uwi] = targetvalue\n",
    "    return df\n",
    "well_logs = to_target(lasfiltered, target_wells)"
   ]
  },
  {
   "cell_type": "code",
   "execution_count": 42,
   "metadata": {},
   "outputs": [
    {
     "output_type": "execute_result",
     "data": {
      "text/plain": [
       "                          GR       ILD         RHO      NPHI         DT  PEF\n",
       "42021301990000     73.422600   9.77235     2.57615  0.185000        NaN  NaN\n",
       "100102606420W500   48.028750   2.31870         NaN       NaN  122.82240  NaN\n",
       "100141705519W500   71.541450   6.64715         NaN       NaN   92.89870  NaN\n",
       "100141503621W400   46.398625   6.77445         NaN       NaN   85.88015  NaN\n",
       "100043406718W500   19.313100  22.53665         NaN       NaN   53.18885  NaN\n",
       "...                      ...       ...         ...       ...        ...  ...\n",
       "100101606423W500  126.556100   6.70570     2.04565  0.387500   80.21380  NaN\n",
       "42177309850000     10.848950  28.64850         NaN  0.014200        NaN  NaN\n",
       "100100805919W500   78.612650  13.41250     2.52680  0.243900   72.97880  NaN\n",
       "100110905226W400   60.096150   7.09175         NaN       NaN   65.25850  NaN\n",
       "102061504515W400   71.991567       NaN  2478.03250  0.259025  268.42105  NaN\n",
       "\n",
       "[821 rows x 6 columns]"
      ],
      "text/html": "<div>\n<style scoped>\n    .dataframe tbody tr th:only-of-type {\n        vertical-align: middle;\n    }\n\n    .dataframe tbody tr th {\n        vertical-align: top;\n    }\n\n    .dataframe thead th {\n        text-align: right;\n    }\n</style>\n<table border=\"1\" class=\"dataframe\">\n  <thead>\n    <tr style=\"text-align: right;\">\n      <th></th>\n      <th>GR</th>\n      <th>ILD</th>\n      <th>RHO</th>\n      <th>NPHI</th>\n      <th>DT</th>\n      <th>PEF</th>\n    </tr>\n  </thead>\n  <tbody>\n    <tr>\n      <th>42021301990000</th>\n      <td>73.422600</td>\n      <td>9.77235</td>\n      <td>2.57615</td>\n      <td>0.185000</td>\n      <td>NaN</td>\n      <td>NaN</td>\n    </tr>\n    <tr>\n      <th>100102606420W500</th>\n      <td>48.028750</td>\n      <td>2.31870</td>\n      <td>NaN</td>\n      <td>NaN</td>\n      <td>122.82240</td>\n      <td>NaN</td>\n    </tr>\n    <tr>\n      <th>100141705519W500</th>\n      <td>71.541450</td>\n      <td>6.64715</td>\n      <td>NaN</td>\n      <td>NaN</td>\n      <td>92.89870</td>\n      <td>NaN</td>\n    </tr>\n    <tr>\n      <th>100141503621W400</th>\n      <td>46.398625</td>\n      <td>6.77445</td>\n      <td>NaN</td>\n      <td>NaN</td>\n      <td>85.88015</td>\n      <td>NaN</td>\n    </tr>\n    <tr>\n      <th>100043406718W500</th>\n      <td>19.313100</td>\n      <td>22.53665</td>\n      <td>NaN</td>\n      <td>NaN</td>\n      <td>53.18885</td>\n      <td>NaN</td>\n    </tr>\n    <tr>\n      <th>...</th>\n      <td>...</td>\n      <td>...</td>\n      <td>...</td>\n      <td>...</td>\n      <td>...</td>\n      <td>...</td>\n    </tr>\n    <tr>\n      <th>100101606423W500</th>\n      <td>126.556100</td>\n      <td>6.70570</td>\n      <td>2.04565</td>\n      <td>0.387500</td>\n      <td>80.21380</td>\n      <td>NaN</td>\n    </tr>\n    <tr>\n      <th>42177309850000</th>\n      <td>10.848950</td>\n      <td>28.64850</td>\n      <td>NaN</td>\n      <td>0.014200</td>\n      <td>NaN</td>\n      <td>NaN</td>\n    </tr>\n    <tr>\n      <th>100100805919W500</th>\n      <td>78.612650</td>\n      <td>13.41250</td>\n      <td>2.52680</td>\n      <td>0.243900</td>\n      <td>72.97880</td>\n      <td>NaN</td>\n    </tr>\n    <tr>\n      <th>100110905226W400</th>\n      <td>60.096150</td>\n      <td>7.09175</td>\n      <td>NaN</td>\n      <td>NaN</td>\n      <td>65.25850</td>\n      <td>NaN</td>\n    </tr>\n    <tr>\n      <th>102061504515W400</th>\n      <td>71.991567</td>\n      <td>NaN</td>\n      <td>2478.03250</td>\n      <td>0.259025</td>\n      <td>268.42105</td>\n      <td>NaN</td>\n    </tr>\n  </tbody>\n</table>\n<p>821 rows × 6 columns</p>\n</div>"
     },
     "metadata": {},
     "execution_count": 42
    }
   ],
   "source": [
    "well_logs"
   ]
  },
  {
   "source": [
    "## standarizing log units and computing VSHALE, SW, and PHIT"
   ],
   "cell_type": "markdown",
   "metadata": {}
  },
  {
   "cell_type": "code",
   "execution_count": 43,
   "metadata": {},
   "outputs": [],
   "source": [
    "# standarazind logs units\n",
    "well_logs.loc[(well_logs.RHO > 100), 'RHO'] = well_logs.loc[(well_logs.RHO > 100), 'RHO']/1000\n",
    "well_logs.loc[(well_logs.DT > 150), 'DT'] = well_logs.loc[(well_logs.DT > 150), 'DT']*0.3048"
   ]
  },
  {
   "cell_type": "code",
   "execution_count": 44,
   "metadata": {},
   "outputs": [],
   "source": [
    "# vshale\n",
    "well_logs['VSHALE'] = (well_logs['GR']-10)/(150-10)\n",
    "# density porosity\n",
    "well_logs['PHIT_D'] = (2.71-well_logs['RHO'])/(2.71-1)\n",
    "# sonic willie porosity\n",
    "well_logs['PHIT_S'] = (well_logs['DT']-47.6)/(200-47.6)\n",
    "#PHIT mean\n",
    "well_logs['PHIT'] = well_logs.loc[:, ['PHIT_D', 'PHIT_S', 'NPHI']].mean(axis=1)\n",
    "# water saturation archie\n",
    "well_logs['SW'] = np.minimum(1, (((0.05)/(well_logs['PHIT']**2*well_logs['ILD']))**2))\n",
    "# volumetric PEF\n",
    "well_logs['U'] = well_logs['RHO']*well_logs['PEF']"
   ]
  },
  {
   "cell_type": "code",
   "execution_count": 45,
   "metadata": {},
   "outputs": [],
   "source": [
    "well_logs.drop(columns=['PHIT_D', 'PHIT_S', 'PEF'], inplace=True)"
   ]
  },
  {
   "cell_type": "code",
   "execution_count": 46,
   "metadata": {},
   "outputs": [
    {
     "output_type": "execute_result",
     "data": {
      "text/plain": [
       "                          GR       ILD       RHO      NPHI          DT  \\\n",
       "42021301990000     73.422600   9.77235  2.576150  0.185000         NaN   \n",
       "100102606420W500   48.028750   2.31870       NaN       NaN  122.822400   \n",
       "100141705519W500   71.541450   6.64715       NaN       NaN   92.898700   \n",
       "100141503621W400   46.398625   6.77445       NaN       NaN   85.880150   \n",
       "100043406718W500   19.313100  22.53665       NaN       NaN   53.188850   \n",
       "...                      ...       ...       ...       ...         ...   \n",
       "100101606423W500  126.556100   6.70570  2.045650  0.387500   80.213800   \n",
       "42177309850000     10.848950  28.64850       NaN  0.014200         NaN   \n",
       "100100805919W500   78.612650  13.41250  2.526800  0.243900   72.978800   \n",
       "100110905226W400   60.096150   7.09175       NaN       NaN   65.258500   \n",
       "102061504515W400   71.991567       NaN  2.478033  0.259025   81.814736   \n",
       "\n",
       "                    VSHALE      PHIT        SW   U  \n",
       "42021301990000    0.453019  0.131637  0.087182 NaN  \n",
       "100102606420W500  0.271634  0.493585  0.007834 NaN  \n",
       "100141705519W500  0.439582  0.297236  0.007249 NaN  \n",
       "100141503621W400  0.259990  0.251182  0.013685 NaN  \n",
       "100043406718W500  0.066522  0.036672  1.000000 NaN  \n",
       "...                    ...       ...       ...  ..  \n",
       "100101606423W500  0.832544  0.330003  0.004688 NaN  \n",
       "42177309850000    0.006064  0.014200  1.000000 NaN  \n",
       "100100805919W500  0.490090  0.172521  0.015688 NaN  \n",
       "100110905226W400  0.357830  0.115869  0.275777 NaN  \n",
       "102061504515W400  0.442797  0.206395       NaN NaN  \n",
       "\n",
       "[821 rows x 9 columns]"
      ],
      "text/html": "<div>\n<style scoped>\n    .dataframe tbody tr th:only-of-type {\n        vertical-align: middle;\n    }\n\n    .dataframe tbody tr th {\n        vertical-align: top;\n    }\n\n    .dataframe thead th {\n        text-align: right;\n    }\n</style>\n<table border=\"1\" class=\"dataframe\">\n  <thead>\n    <tr style=\"text-align: right;\">\n      <th></th>\n      <th>GR</th>\n      <th>ILD</th>\n      <th>RHO</th>\n      <th>NPHI</th>\n      <th>DT</th>\n      <th>VSHALE</th>\n      <th>PHIT</th>\n      <th>SW</th>\n      <th>U</th>\n    </tr>\n  </thead>\n  <tbody>\n    <tr>\n      <th>42021301990000</th>\n      <td>73.422600</td>\n      <td>9.77235</td>\n      <td>2.576150</td>\n      <td>0.185000</td>\n      <td>NaN</td>\n      <td>0.453019</td>\n      <td>0.131637</td>\n      <td>0.087182</td>\n      <td>NaN</td>\n    </tr>\n    <tr>\n      <th>100102606420W500</th>\n      <td>48.028750</td>\n      <td>2.31870</td>\n      <td>NaN</td>\n      <td>NaN</td>\n      <td>122.822400</td>\n      <td>0.271634</td>\n      <td>0.493585</td>\n      <td>0.007834</td>\n      <td>NaN</td>\n    </tr>\n    <tr>\n      <th>100141705519W500</th>\n      <td>71.541450</td>\n      <td>6.64715</td>\n      <td>NaN</td>\n      <td>NaN</td>\n      <td>92.898700</td>\n      <td>0.439582</td>\n      <td>0.297236</td>\n      <td>0.007249</td>\n      <td>NaN</td>\n    </tr>\n    <tr>\n      <th>100141503621W400</th>\n      <td>46.398625</td>\n      <td>6.77445</td>\n      <td>NaN</td>\n      <td>NaN</td>\n      <td>85.880150</td>\n      <td>0.259990</td>\n      <td>0.251182</td>\n      <td>0.013685</td>\n      <td>NaN</td>\n    </tr>\n    <tr>\n      <th>100043406718W500</th>\n      <td>19.313100</td>\n      <td>22.53665</td>\n      <td>NaN</td>\n      <td>NaN</td>\n      <td>53.188850</td>\n      <td>0.066522</td>\n      <td>0.036672</td>\n      <td>1.000000</td>\n      <td>NaN</td>\n    </tr>\n    <tr>\n      <th>...</th>\n      <td>...</td>\n      <td>...</td>\n      <td>...</td>\n      <td>...</td>\n      <td>...</td>\n      <td>...</td>\n      <td>...</td>\n      <td>...</td>\n      <td>...</td>\n    </tr>\n    <tr>\n      <th>100101606423W500</th>\n      <td>126.556100</td>\n      <td>6.70570</td>\n      <td>2.045650</td>\n      <td>0.387500</td>\n      <td>80.213800</td>\n      <td>0.832544</td>\n      <td>0.330003</td>\n      <td>0.004688</td>\n      <td>NaN</td>\n    </tr>\n    <tr>\n      <th>42177309850000</th>\n      <td>10.848950</td>\n      <td>28.64850</td>\n      <td>NaN</td>\n      <td>0.014200</td>\n      <td>NaN</td>\n      <td>0.006064</td>\n      <td>0.014200</td>\n      <td>1.000000</td>\n      <td>NaN</td>\n    </tr>\n    <tr>\n      <th>100100805919W500</th>\n      <td>78.612650</td>\n      <td>13.41250</td>\n      <td>2.526800</td>\n      <td>0.243900</td>\n      <td>72.978800</td>\n      <td>0.490090</td>\n      <td>0.172521</td>\n      <td>0.015688</td>\n      <td>NaN</td>\n    </tr>\n    <tr>\n      <th>100110905226W400</th>\n      <td>60.096150</td>\n      <td>7.09175</td>\n      <td>NaN</td>\n      <td>NaN</td>\n      <td>65.258500</td>\n      <td>0.357830</td>\n      <td>0.115869</td>\n      <td>0.275777</td>\n      <td>NaN</td>\n    </tr>\n    <tr>\n      <th>102061504515W400</th>\n      <td>71.991567</td>\n      <td>NaN</td>\n      <td>2.478033</td>\n      <td>0.259025</td>\n      <td>81.814736</td>\n      <td>0.442797</td>\n      <td>0.206395</td>\n      <td>NaN</td>\n      <td>NaN</td>\n    </tr>\n  </tbody>\n</table>\n<p>821 rows × 9 columns</p>\n</div>"
     },
     "metadata": {},
     "execution_count": 46
    }
   ],
   "source": [
    "well_logs"
   ]
  },
  {
   "cell_type": "code",
   "execution_count": 47,
   "metadata": {},
   "outputs": [],
   "source": [
    "well_logs.to_csv('well_logs_Softypo.csv')"
   ]
  },
  {
   "cell_type": "code",
   "execution_count": null,
   "metadata": {},
   "outputs": [],
   "source": []
  }
 ]
}