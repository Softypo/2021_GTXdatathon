{
 "cells": [
  {
   "cell_type": "code",
   "execution_count": null,
   "metadata": {},
   "outputs": [],
   "source": [
    "import kfold_model as kfm\n",
    "import pandas as pd\n",
    "import numpy as np\n",
    "from tensorflow.keras.models import load_model\n",
    "from sklearn.preprocessing import OneHotEncoder, StandardScaler\n",
    "from sklearn.metrics import mean_squared_error\n",
    "from sklearn.model_selection import train_test_split\n",
    "from matplotlib import pyplot as plt"
   ]
  },
  {
   "cell_type": "code",
   "execution_count": null,
   "metadata": {},
   "outputs": [],
   "source": [
    "# felix function\n",
    "def outlier_detector_IQR(df,features,n_IQR, all_data = True):  \n",
    "\n",
    "  dmin = {}\n",
    "  dmax = {}\n",
    "  lower_b = {}\n",
    "  higher_b = {}\n",
    "  count_min = {}\n",
    "  count_max = {}\n",
    "\n",
    "  for i in features:\n",
    "    Q1 = df[i].quantile(0.25)\n",
    "    Q3 = df[i].quantile(0.75)\n",
    "    IQR = Q3 - Q1\n",
    "    lower_limit, higher_limit = Q1 - n_IQR*IQR, Q3 +n_IQR*IQR\n",
    "\n",
    "    lower_b[i] = [np.round(lower_limit,2)]   # min value per Log\n",
    "    higher_b[i] = [np.round(higher_limit,2)] # max value per Log\n",
    "\n",
    "    if df[i].min() < lower_limit:      \n",
    "      dmin[i] = [np.round(df[i].min(),2)]\n",
    "      count_min[i] = [len(df[i].loc[df[i] < lower_limit])]\n",
    "    else:\n",
    "      dmin[i] = '-----'\n",
    "      count_min[i] = '-----'\n",
    "    if df[i].max() > higher_limit:\n",
    "      dmax[i] = [np.round(df[i].max(),2)]\n",
    "      count_max[i] = [len(df[i].loc[df[i] > higher_limit])]\n",
    "    else:\n",
    "      dmax[i] = '-----'\n",
    "      count_max[i] = '-----'\n",
    "\n",
    "  lower = pd.DataFrame(lower_b).T.rename(columns={0:'Lower_Limit'})\n",
    "  min = pd.DataFrame(dmin).T.rename(columns={0:'1st_Min_Outlier'})\n",
    "  min_count = pd.DataFrame(count_min).T.rename(columns={0:'Total_Min_Out'})\n",
    "  higher = pd.DataFrame(higher_b).T.rename(columns={0:'Higher_Limit'})  \n",
    "  max = pd.DataFrame(dmax).T.rename(columns={0:'Last_Max_Outlier'})\n",
    "  max_count = pd.DataFrame(count_max).T.rename(columns={0:'Total_Max_Out'})  \n",
    "\n",
    "  return pd.concat([lower,min,min_count,higher,max,max_count],axis=1) "
   ]
  },
  {
   "cell_type": "code",
   "execution_count": null,
   "metadata": {},
   "outputs": [],
   "source": [
    "# felix function\n",
    "def outlier_replacer(df,column,min=None,max=None):  \n",
    "\n",
    "  if min != None:\n",
    "    min_idx = list(df.loc[df[column]<=min].index.values)\n",
    "    df.at[min_idx,column] = min\n",
    "  else:\n",
    "    pass\n",
    "\n",
    "  if max != None:\n",
    "    max_idx = list(df.loc[df[column]>=max].index.values)\n",
    "    df.at[max_idx,column] = max\n",
    "  else:\n",
    "    pass  \n",
    "\n",
    "  return df"
   ]
  },
  {
   "source": [
    "## preparing data for the model"
   ],
   "cell_type": "markdown",
   "metadata": {}
  },
  {
   "cell_type": "code",
   "execution_count": 5,
   "metadata": {
    "tags": []
   },
   "outputs": [
    {
     "output_type": "execute_result",
     "data": {
      "text/plain": [
       "              BHT    TrueTemp  DST Test Date  DST Number     BHT_md_ft  \\\n",
       "count  821.000000  615.000000     499.000000  499.000000    821.000000   \n",
       "mean    74.143957   90.573978   27006.494990    2.058116   7435.110757   \n",
       "std     29.367932   29.514626    3995.354937    1.894462   2750.882639   \n",
       "min     10.000000    8.370000   19665.000000    1.000000    739.993462   \n",
       "25%     51.110000   67.115000   23443.500000    1.000000   5504.080000   \n",
       "50%     72.222222   90.555556   27019.000000    1.000000   7291.502858   \n",
       "75%     91.111111  110.380000   29654.500000    2.000000   9056.922862   \n",
       "max    196.111111  196.027778   37913.000000   16.000000  19502.980000   \n",
       "\n",
       "          BHT_ss_ft  Initial Hydrostatic Pressure (kPa)  \\\n",
       "count    821.000000                          445.000000   \n",
       "mean    5575.376572                        21169.034494   \n",
       "std     3371.674640                         9366.684293   \n",
       "min    -2070.045998                         2420.060000   \n",
       "25%     2823.162820                        16209.580000   \n",
       "50%     5190.124838                        19339.800000   \n",
       "75%     7894.000000                        25026.000000   \n",
       "max    19132.000000                       120704.000000   \n",
       "\n",
       "       Final Hydrostatic Pressure (kPa)  SurfaceLatitude_NAD83  \\\n",
       "count                        442.000000             821.000000   \n",
       "mean                       20631.409095              44.712029   \n",
       "std                         7902.905600              11.952018   \n",
       "min                         2420.060000              27.975343   \n",
       "25%                        16136.407500              30.450949   \n",
       "50%                        19179.500000              53.487604   \n",
       "75%                        24800.500000              54.539870   \n",
       "max                        62162.000000              56.050945   \n",
       "\n",
       "       SurfaceLongitude_NAD83  ...  Gas Injection Cum (mcf)          GR  \\\n",
       "count              821.000000  ...                 6.000000  791.000000   \n",
       "mean              -108.719768  ...             42166.333333   52.999598   \n",
       "std                  9.174035  ...            103286.000991   34.866225   \n",
       "min               -118.732890  ...                 0.000000    1.858000   \n",
       "25%               -116.568760  ...                 0.000000   25.428525   \n",
       "50%               -115.083627  ...                 0.000000   45.332675   \n",
       "75%                -97.579842  ...                 0.000000   74.298788   \n",
       "max                -95.623436  ...            252998.000000  282.699650   \n",
       "\n",
       "               ILD         RHO        NPHI          DT      VSHALE  \\\n",
       "count   616.000000  340.000000  361.000000  533.000000  791.000000   \n",
       "mean     92.405508    2.552946    0.138761   67.918615    0.307140   \n",
       "std     240.204006    0.175253    0.122095   16.270341    0.249044   \n",
       "min       0.911750    1.769698   -0.006950    9.804400   -0.058157   \n",
       "25%       8.154400    2.469971    0.033500   54.335800    0.110204   \n",
       "50%      18.406900    2.597964    0.106000   65.115250    0.252376   \n",
       "75%      52.854450    2.678262    0.226700   77.596350    0.459277   \n",
       "max    2003.953100    2.913450    0.547900  143.443250    1.947855   \n",
       "\n",
       "             PHIT            SW          U  \n",
       "count  677.000000  5.520000e+02  63.000000  \n",
       "mean     0.124801  3.004280e-01  10.064914  \n",
       "std      0.106304  3.989270e-01   2.972785  \n",
       "min     -0.040799  2.650099e-07   3.821318  \n",
       "25%      0.038042  9.651705e-03   7.967110  \n",
       "50%      0.103116  5.935690e-02  10.404690  \n",
       "75%      0.191287  6.061640e-01  11.734704  \n",
       "max      0.628893  1.000000e+00  21.161124  \n",
       "\n",
       "[8 rows x 42 columns]"
      ],
      "text/html": "<div>\n<style scoped>\n    .dataframe tbody tr th:only-of-type {\n        vertical-align: middle;\n    }\n\n    .dataframe tbody tr th {\n        vertical-align: top;\n    }\n\n    .dataframe thead th {\n        text-align: right;\n    }\n</style>\n<table border=\"1\" class=\"dataframe\">\n  <thead>\n    <tr style=\"text-align: right;\">\n      <th></th>\n      <th>BHT</th>\n      <th>TrueTemp</th>\n      <th>DST Test Date</th>\n      <th>DST Number</th>\n      <th>BHT_md_ft</th>\n      <th>BHT_ss_ft</th>\n      <th>Initial Hydrostatic Pressure (kPa)</th>\n      <th>Final Hydrostatic Pressure (kPa)</th>\n      <th>SurfaceLatitude_NAD83</th>\n      <th>SurfaceLongitude_NAD83</th>\n      <th>...</th>\n      <th>Gas Injection Cum (mcf)</th>\n      <th>GR</th>\n      <th>ILD</th>\n      <th>RHO</th>\n      <th>NPHI</th>\n      <th>DT</th>\n      <th>VSHALE</th>\n      <th>PHIT</th>\n      <th>SW</th>\n      <th>U</th>\n    </tr>\n  </thead>\n  <tbody>\n    <tr>\n      <th>count</th>\n      <td>821.000000</td>\n      <td>615.000000</td>\n      <td>499.000000</td>\n      <td>499.000000</td>\n      <td>821.000000</td>\n      <td>821.000000</td>\n      <td>445.000000</td>\n      <td>442.000000</td>\n      <td>821.000000</td>\n      <td>821.000000</td>\n      <td>...</td>\n      <td>6.000000</td>\n      <td>791.000000</td>\n      <td>616.000000</td>\n      <td>340.000000</td>\n      <td>361.000000</td>\n      <td>533.000000</td>\n      <td>791.000000</td>\n      <td>677.000000</td>\n      <td>5.520000e+02</td>\n      <td>63.000000</td>\n    </tr>\n    <tr>\n      <th>mean</th>\n      <td>74.143957</td>\n      <td>90.573978</td>\n      <td>27006.494990</td>\n      <td>2.058116</td>\n      <td>7435.110757</td>\n      <td>5575.376572</td>\n      <td>21169.034494</td>\n      <td>20631.409095</td>\n      <td>44.712029</td>\n      <td>-108.719768</td>\n      <td>...</td>\n      <td>42166.333333</td>\n      <td>52.999598</td>\n      <td>92.405508</td>\n      <td>2.552946</td>\n      <td>0.138761</td>\n      <td>67.918615</td>\n      <td>0.307140</td>\n      <td>0.124801</td>\n      <td>3.004280e-01</td>\n      <td>10.064914</td>\n    </tr>\n    <tr>\n      <th>std</th>\n      <td>29.367932</td>\n      <td>29.514626</td>\n      <td>3995.354937</td>\n      <td>1.894462</td>\n      <td>2750.882639</td>\n      <td>3371.674640</td>\n      <td>9366.684293</td>\n      <td>7902.905600</td>\n      <td>11.952018</td>\n      <td>9.174035</td>\n      <td>...</td>\n      <td>103286.000991</td>\n      <td>34.866225</td>\n      <td>240.204006</td>\n      <td>0.175253</td>\n      <td>0.122095</td>\n      <td>16.270341</td>\n      <td>0.249044</td>\n      <td>0.106304</td>\n      <td>3.989270e-01</td>\n      <td>2.972785</td>\n    </tr>\n    <tr>\n      <th>min</th>\n      <td>10.000000</td>\n      <td>8.370000</td>\n      <td>19665.000000</td>\n      <td>1.000000</td>\n      <td>739.993462</td>\n      <td>-2070.045998</td>\n      <td>2420.060000</td>\n      <td>2420.060000</td>\n      <td>27.975343</td>\n      <td>-118.732890</td>\n      <td>...</td>\n      <td>0.000000</td>\n      <td>1.858000</td>\n      <td>0.911750</td>\n      <td>1.769698</td>\n      <td>-0.006950</td>\n      <td>9.804400</td>\n      <td>-0.058157</td>\n      <td>-0.040799</td>\n      <td>2.650099e-07</td>\n      <td>3.821318</td>\n    </tr>\n    <tr>\n      <th>25%</th>\n      <td>51.110000</td>\n      <td>67.115000</td>\n      <td>23443.500000</td>\n      <td>1.000000</td>\n      <td>5504.080000</td>\n      <td>2823.162820</td>\n      <td>16209.580000</td>\n      <td>16136.407500</td>\n      <td>30.450949</td>\n      <td>-116.568760</td>\n      <td>...</td>\n      <td>0.000000</td>\n      <td>25.428525</td>\n      <td>8.154400</td>\n      <td>2.469971</td>\n      <td>0.033500</td>\n      <td>54.335800</td>\n      <td>0.110204</td>\n      <td>0.038042</td>\n      <td>9.651705e-03</td>\n      <td>7.967110</td>\n    </tr>\n    <tr>\n      <th>50%</th>\n      <td>72.222222</td>\n      <td>90.555556</td>\n      <td>27019.000000</td>\n      <td>1.000000</td>\n      <td>7291.502858</td>\n      <td>5190.124838</td>\n      <td>19339.800000</td>\n      <td>19179.500000</td>\n      <td>53.487604</td>\n      <td>-115.083627</td>\n      <td>...</td>\n      <td>0.000000</td>\n      <td>45.332675</td>\n      <td>18.406900</td>\n      <td>2.597964</td>\n      <td>0.106000</td>\n      <td>65.115250</td>\n      <td>0.252376</td>\n      <td>0.103116</td>\n      <td>5.935690e-02</td>\n      <td>10.404690</td>\n    </tr>\n    <tr>\n      <th>75%</th>\n      <td>91.111111</td>\n      <td>110.380000</td>\n      <td>29654.500000</td>\n      <td>2.000000</td>\n      <td>9056.922862</td>\n      <td>7894.000000</td>\n      <td>25026.000000</td>\n      <td>24800.500000</td>\n      <td>54.539870</td>\n      <td>-97.579842</td>\n      <td>...</td>\n      <td>0.000000</td>\n      <td>74.298788</td>\n      <td>52.854450</td>\n      <td>2.678262</td>\n      <td>0.226700</td>\n      <td>77.596350</td>\n      <td>0.459277</td>\n      <td>0.191287</td>\n      <td>6.061640e-01</td>\n      <td>11.734704</td>\n    </tr>\n    <tr>\n      <th>max</th>\n      <td>196.111111</td>\n      <td>196.027778</td>\n      <td>37913.000000</td>\n      <td>16.000000</td>\n      <td>19502.980000</td>\n      <td>19132.000000</td>\n      <td>120704.000000</td>\n      <td>62162.000000</td>\n      <td>56.050945</td>\n      <td>-95.623436</td>\n      <td>...</td>\n      <td>252998.000000</td>\n      <td>282.699650</td>\n      <td>2003.953100</td>\n      <td>2.913450</td>\n      <td>0.547900</td>\n      <td>143.443250</td>\n      <td>1.947855</td>\n      <td>0.628893</td>\n      <td>1.000000e+00</td>\n      <td>21.161124</td>\n    </tr>\n  </tbody>\n</table>\n<p>8 rows × 42 columns</p>\n</div>"
     },
     "metadata": {},
     "execution_count": 5
    }
   ],
   "source": [
    "# loding eda dataset\n",
    "well_data_Softypo_ft = pd.read_csv('final_well_data_Softypo_ft.csv', index_col=0)\n",
    "well_data_Softypo_ft.describe()"
   ]
  },
  {
   "cell_type": "code",
   "execution_count": null,
   "metadata": {},
   "outputs": [],
   "source": [
    "# looking for outliers\n",
    "outlier_detector_IQR(well_data_Softypo_ft[well_data_Softypo_ft.dtypes[well_data_Softypo_ft.dtypes != 'object'].index],well_data_Softypo_ft[well_data_Softypo_ft.dtypes[well_data_Softypo_ft.dtypes != 'object'].index].keys(),1.5)"
   ]
  },
  {
   "cell_type": "code",
   "execution_count": 6,
   "metadata": {},
   "outputs": [
    {
     "output_type": "stream",
     "name": "stdout",
     "text": [
      "done\n"
     ]
    }
   ],
   "source": [
    "# droping outlier values\n",
    "outlier_replacer(well_data_Softypo_ft,'Gas Maximum (mcf)',min=0,max=19436.24)\n",
    "outlier_replacer(well_data_Softypo_ft,'Oil Total Cum (bbl)',min=0,max=14803.74)\n",
    "outlier_replacer(well_data_Softypo_ft,'Initial Hydrostatic Pressure (kPa)',min=0,max=39112.16)\n",
    "outlier_replacer(well_data_Softypo_ft,'Water Maximum (bbl)',min=0,max=1565.31) \n",
    "outlier_replacer(well_data_Softypo_ft,'Gas Total Cum (mcf)',min=0,max=227782.69) \n",
    "outlier_replacer(well_data_Softypo_ft,'Final Hydrostatic Pressure (kPa)',min=0,max=38256.44)  \n",
    "outlier_replacer(well_data_Softypo_ft,'Oil Maximum (bbl)',min=0,max=3295.82) \n",
    "outlier_replacer(well_data_Softypo_ft,'GOR Total Average',min=0,max=5663.28)\n",
    "outlier_replacer(well_data_Softypo_ft,'Water Total Cum (bbl)',min=0,max=66035.43) \n",
    "outlier_replacer(well_data_Softypo_ft,'TD_ft',min=None,max=15830.82)\n",
    "outlier_replacer(well_data_Softypo_ft,'Total Vertical Depth (ft)',min=None,max=15231.25) \n",
    "outlier_replacer(well_data_Softypo_ft,'VSHALE',min=0,max=0.95) \n",
    "outlier_replacer(well_data_Softypo_ft,'PHIT',min=0,max=None) \n",
    "outlier_replacer(well_data_Softypo_ft,'ILD',min=0,max=2.97) \n",
    "outlier_replacer(well_data_Softypo_ft,'DT',min=20.28,max=112.42)\n",
    "outlier_replacer(well_data_Softypo_ft,'GR',min=0,max=143.62) \n",
    "outlier_replacer(well_data_Softypo_ft,'U',min=None,max=16.16) \n",
    "print ('done')"
   ]
  },
  {
   "cell_type": "code",
   "execution_count": 7,
   "metadata": {},
   "outputs": [
    {
     "output_type": "execute_result",
     "data": {
      "text/plain": [
       "              BHT    TrueTemp  DST Test Date  DST Number     BHT_md_ft  \\\n",
       "count  821.000000  615.000000     499.000000  499.000000    821.000000   \n",
       "mean    74.143957   90.573978   27006.494990    2.058116   7435.110757   \n",
       "std     29.367932   29.514626    3995.354937    1.894462   2750.882639   \n",
       "min     10.000000    8.370000   19665.000000    1.000000    739.993462   \n",
       "25%     51.110000   67.115000   23443.500000    1.000000   5504.080000   \n",
       "50%     72.222222   90.555556   27019.000000    1.000000   7291.502858   \n",
       "75%     91.111111  110.380000   29654.500000    2.000000   9056.922862   \n",
       "max    196.111111  196.027778   37913.000000   16.000000  19502.980000   \n",
       "\n",
       "          BHT_ss_ft  Initial Hydrostatic Pressure (kPa)  \\\n",
       "count    821.000000                          445.000000   \n",
       "mean    5575.376572                        20844.464764   \n",
       "std     3371.674640                         7692.482715   \n",
       "min    -2070.045998                         2420.060000   \n",
       "25%     2823.162820                        16209.580000   \n",
       "50%     5190.124838                        19339.800000   \n",
       "75%     7894.000000                        25026.000000   \n",
       "max    19132.000000                        39112.160000   \n",
       "\n",
       "       Final Hydrostatic Pressure (kPa)  SurfaceLatitude_NAD83  \\\n",
       "count                        442.000000             821.000000   \n",
       "mean                       20497.702783              44.712029   \n",
       "std                         7480.535569              11.952018   \n",
       "min                         2420.060000              27.975343   \n",
       "25%                        16136.407500              30.450949   \n",
       "50%                        19179.500000              53.487604   \n",
       "75%                        24800.500000              54.539870   \n",
       "max                        38256.440000              56.050945   \n",
       "\n",
       "       SurfaceLongitude_NAD83  ...  Gas Injection Cum (mcf)          GR  \\\n",
       "count              821.000000  ...                 6.000000  791.000000   \n",
       "mean              -108.719768  ...             42166.333333   52.383657   \n",
       "std                  9.174035  ...            103286.000991   32.552215   \n",
       "min               -118.732890  ...                 0.000000    1.858000   \n",
       "25%               -116.568760  ...                 0.000000   25.428525   \n",
       "50%               -115.083627  ...                 0.000000   45.332675   \n",
       "75%                -97.579842  ...                 0.000000   74.298788   \n",
       "max                -95.623436  ...            252998.000000  143.620000   \n",
       "\n",
       "              ILD         RHO        NPHI          DT      VSHALE        PHIT  \\\n",
       "count  616.000000  340.000000  361.000000  533.000000  791.000000  677.000000   \n",
       "mean     2.930069    2.552946    0.138761   67.693304    0.303183    0.125120   \n",
       "std      0.214640    0.175253    0.122095   15.355093    0.231544    0.105889   \n",
       "min      0.911750    1.769698   -0.006950   20.280000    0.000000    0.000000   \n",
       "25%      2.970000    2.469971    0.033500   54.335800    0.110204    0.038042   \n",
       "50%      2.970000    2.597964    0.106000   65.115250    0.252376    0.103116   \n",
       "75%      2.970000    2.678262    0.226700   77.596350    0.459277    0.191287   \n",
       "max      2.970000    2.913450    0.547900  112.420000    0.950000    0.628893   \n",
       "\n",
       "                 SW          U  \n",
       "count  5.520000e+02  63.000000  \n",
       "mean   3.004280e-01   9.942615  \n",
       "std    3.989270e-01   2.605004  \n",
       "min    2.650099e-07   3.821318  \n",
       "25%    9.651705e-03   7.967110  \n",
       "50%    5.935690e-02  10.404690  \n",
       "75%    6.061640e-01  11.734704  \n",
       "max    1.000000e+00  16.160000  \n",
       "\n",
       "[8 rows x 42 columns]"
      ],
      "text/html": "<div>\n<style scoped>\n    .dataframe tbody tr th:only-of-type {\n        vertical-align: middle;\n    }\n\n    .dataframe tbody tr th {\n        vertical-align: top;\n    }\n\n    .dataframe thead th {\n        text-align: right;\n    }\n</style>\n<table border=\"1\" class=\"dataframe\">\n  <thead>\n    <tr style=\"text-align: right;\">\n      <th></th>\n      <th>BHT</th>\n      <th>TrueTemp</th>\n      <th>DST Test Date</th>\n      <th>DST Number</th>\n      <th>BHT_md_ft</th>\n      <th>BHT_ss_ft</th>\n      <th>Initial Hydrostatic Pressure (kPa)</th>\n      <th>Final Hydrostatic Pressure (kPa)</th>\n      <th>SurfaceLatitude_NAD83</th>\n      <th>SurfaceLongitude_NAD83</th>\n      <th>...</th>\n      <th>Gas Injection Cum (mcf)</th>\n      <th>GR</th>\n      <th>ILD</th>\n      <th>RHO</th>\n      <th>NPHI</th>\n      <th>DT</th>\n      <th>VSHALE</th>\n      <th>PHIT</th>\n      <th>SW</th>\n      <th>U</th>\n    </tr>\n  </thead>\n  <tbody>\n    <tr>\n      <th>count</th>\n      <td>821.000000</td>\n      <td>615.000000</td>\n      <td>499.000000</td>\n      <td>499.000000</td>\n      <td>821.000000</td>\n      <td>821.000000</td>\n      <td>445.000000</td>\n      <td>442.000000</td>\n      <td>821.000000</td>\n      <td>821.000000</td>\n      <td>...</td>\n      <td>6.000000</td>\n      <td>791.000000</td>\n      <td>616.000000</td>\n      <td>340.000000</td>\n      <td>361.000000</td>\n      <td>533.000000</td>\n      <td>791.000000</td>\n      <td>677.000000</td>\n      <td>5.520000e+02</td>\n      <td>63.000000</td>\n    </tr>\n    <tr>\n      <th>mean</th>\n      <td>74.143957</td>\n      <td>90.573978</td>\n      <td>27006.494990</td>\n      <td>2.058116</td>\n      <td>7435.110757</td>\n      <td>5575.376572</td>\n      <td>20844.464764</td>\n      <td>20497.702783</td>\n      <td>44.712029</td>\n      <td>-108.719768</td>\n      <td>...</td>\n      <td>42166.333333</td>\n      <td>52.383657</td>\n      <td>2.930069</td>\n      <td>2.552946</td>\n      <td>0.138761</td>\n      <td>67.693304</td>\n      <td>0.303183</td>\n      <td>0.125120</td>\n      <td>3.004280e-01</td>\n      <td>9.942615</td>\n    </tr>\n    <tr>\n      <th>std</th>\n      <td>29.367932</td>\n      <td>29.514626</td>\n      <td>3995.354937</td>\n      <td>1.894462</td>\n      <td>2750.882639</td>\n      <td>3371.674640</td>\n      <td>7692.482715</td>\n      <td>7480.535569</td>\n      <td>11.952018</td>\n      <td>9.174035</td>\n      <td>...</td>\n      <td>103286.000991</td>\n      <td>32.552215</td>\n      <td>0.214640</td>\n      <td>0.175253</td>\n      <td>0.122095</td>\n      <td>15.355093</td>\n      <td>0.231544</td>\n      <td>0.105889</td>\n      <td>3.989270e-01</td>\n      <td>2.605004</td>\n    </tr>\n    <tr>\n      <th>min</th>\n      <td>10.000000</td>\n      <td>8.370000</td>\n      <td>19665.000000</td>\n      <td>1.000000</td>\n      <td>739.993462</td>\n      <td>-2070.045998</td>\n      <td>2420.060000</td>\n      <td>2420.060000</td>\n      <td>27.975343</td>\n      <td>-118.732890</td>\n      <td>...</td>\n      <td>0.000000</td>\n      <td>1.858000</td>\n      <td>0.911750</td>\n      <td>1.769698</td>\n      <td>-0.006950</td>\n      <td>20.280000</td>\n      <td>0.000000</td>\n      <td>0.000000</td>\n      <td>2.650099e-07</td>\n      <td>3.821318</td>\n    </tr>\n    <tr>\n      <th>25%</th>\n      <td>51.110000</td>\n      <td>67.115000</td>\n      <td>23443.500000</td>\n      <td>1.000000</td>\n      <td>5504.080000</td>\n      <td>2823.162820</td>\n      <td>16209.580000</td>\n      <td>16136.407500</td>\n      <td>30.450949</td>\n      <td>-116.568760</td>\n      <td>...</td>\n      <td>0.000000</td>\n      <td>25.428525</td>\n      <td>2.970000</td>\n      <td>2.469971</td>\n      <td>0.033500</td>\n      <td>54.335800</td>\n      <td>0.110204</td>\n      <td>0.038042</td>\n      <td>9.651705e-03</td>\n      <td>7.967110</td>\n    </tr>\n    <tr>\n      <th>50%</th>\n      <td>72.222222</td>\n      <td>90.555556</td>\n      <td>27019.000000</td>\n      <td>1.000000</td>\n      <td>7291.502858</td>\n      <td>5190.124838</td>\n      <td>19339.800000</td>\n      <td>19179.500000</td>\n      <td>53.487604</td>\n      <td>-115.083627</td>\n      <td>...</td>\n      <td>0.000000</td>\n      <td>45.332675</td>\n      <td>2.970000</td>\n      <td>2.597964</td>\n      <td>0.106000</td>\n      <td>65.115250</td>\n      <td>0.252376</td>\n      <td>0.103116</td>\n      <td>5.935690e-02</td>\n      <td>10.404690</td>\n    </tr>\n    <tr>\n      <th>75%</th>\n      <td>91.111111</td>\n      <td>110.380000</td>\n      <td>29654.500000</td>\n      <td>2.000000</td>\n      <td>9056.922862</td>\n      <td>7894.000000</td>\n      <td>25026.000000</td>\n      <td>24800.500000</td>\n      <td>54.539870</td>\n      <td>-97.579842</td>\n      <td>...</td>\n      <td>0.000000</td>\n      <td>74.298788</td>\n      <td>2.970000</td>\n      <td>2.678262</td>\n      <td>0.226700</td>\n      <td>77.596350</td>\n      <td>0.459277</td>\n      <td>0.191287</td>\n      <td>6.061640e-01</td>\n      <td>11.734704</td>\n    </tr>\n    <tr>\n      <th>max</th>\n      <td>196.111111</td>\n      <td>196.027778</td>\n      <td>37913.000000</td>\n      <td>16.000000</td>\n      <td>19502.980000</td>\n      <td>19132.000000</td>\n      <td>39112.160000</td>\n      <td>38256.440000</td>\n      <td>56.050945</td>\n      <td>-95.623436</td>\n      <td>...</td>\n      <td>252998.000000</td>\n      <td>143.620000</td>\n      <td>2.970000</td>\n      <td>2.913450</td>\n      <td>0.547900</td>\n      <td>112.420000</td>\n      <td>0.950000</td>\n      <td>0.628893</td>\n      <td>1.000000e+00</td>\n      <td>16.160000</td>\n    </tr>\n  </tbody>\n</table>\n<p>8 rows × 42 columns</p>\n</div>"
     },
     "metadata": {},
     "execution_count": 7
    }
   ],
   "source": [
    "well_data_Softypo_ft.describe()"
   ]
  },
  {
   "cell_type": "code",
   "execution_count": null,
   "metadata": {},
   "outputs": [],
   "source": [
    "# % of nan\n",
    "well_data_Softypo_ft.isnull().mean()"
   ]
  },
  {
   "cell_type": "code",
   "execution_count": null,
   "metadata": {},
   "outputs": [],
   "source": [
    "#droping columns with nan higer than 50%\n",
    "well_data_Softypo_ft = well_data_Softypo_ft.loc[:, well_data_Softypo_ft.isnull().mean() < .5]"
   ]
  },
  {
   "cell_type": "code",
   "execution_count": 8,
   "metadata": {},
   "outputs": [
    {
     "output_type": "execute_result",
     "data": {
      "text/plain": [
       "Index(['Set', 'source', 'BHT', 'TrueTemp', 'Field', 'DST Test Date',\n",
       "       'Test Type', 'DST Misrun', 'DST Number', 'formation', 'BHT_md_ft',\n",
       "       'BHT_ss_ft', 'Initial Hydrostatic Pressure (kPa)',\n",
       "       'Final Hydrostatic Pressure (kPa)', 'SurfaceLatitude_NAD83',\n",
       "       'SurfaceLongitude_NAD83', 'BottomLatitude_NAD83',\n",
       "       'BottomLongitude_NAD83', 'Elevation_KB_ft', 'TD_ft',\n",
       "       'Total Vertical Depth (ft)', 'Spud Date', 'Completion Date',\n",
       "       'First Production Month', 'Oil Total Cum (bbl)', 'Gas Total Cum (mcf)',\n",
       "       'Water Total Cum (bbl)', 'GOR Total Average', 'Plug Date',\n",
       "       'First Production Date', 'Last Production Month', 'Gas Maximum (mcf)',\n",
       "       'Gas Maximum Date', 'Oil Maximum (bbl)', 'Oil Maximum Date',\n",
       "       'Water Maximum (bbl)', 'Water Maximum Date', 'Yield Total Average',\n",
       "       'TSC or ORT (time since circulation or original recorded time in hours)',\n",
       "       'MinCasingSize', 'spuddate', 'completiondate', 'cumoil', 'cumgas',\n",
       "       'cumwater', 'Mud Wt', 'MW@Depth(KB)', 'Drilling Days',\n",
       "       'Liquid Injection Cum (bbl)', 'Gas Injection Cum (mcf)', 'GR', 'ILD',\n",
       "       'RHO', 'NPHI', 'DT', 'VSHALE', 'PHIT', 'SW', 'U'],\n",
       "      dtype='object')"
      ]
     },
     "metadata": {},
     "execution_count": 8
    }
   ],
   "source": [
    "well_data_Softypo_ft.columns"
   ]
  },
  {
   "cell_type": "code",
   "execution_count": 17,
   "metadata": {},
   "outputs": [],
   "source": [
    "df = pd.DataFrame(well_data_Softypo_ft.loc[:,['source', 'BHT', 'TrueTemp', 'Field', 'BHT_md_ft',\n",
    "       'BHT_ss_ft', 'Initial Hydrostatic Pressure (kPa)',\n",
    "       'Final Hydrostatic Pressure (kPa)', 'SurfaceLatitude_NAD83',\n",
    "       'SurfaceLongitude_NAD83', 'Elevation_KB_ft', 'TD_ft', 'Oil Total Cum (bbl)', 'Gas Total Cum (mcf)',\n",
    "       'Water Total Cum (bbl)', 'GOR Total Average', 'Gas Maximum (mcf)', 'Yield Total Average',\n",
    "       'TSC or ORT (time since circulation or original recorded time in hours)',\n",
    "       'MinCasingSize', 'completiondate', 'cumoil', 'cumgas',\n",
    "       'cumwater', 'Mud Wt', 'MW@Depth(KB)', 'GR', 'ILD',\n",
    "       'RHO', 'NPHI', 'DT', 'VSHALE', 'PHIT', 'SW', 'U']], index=well_data_Softypo_ft.index)\n",
    "\n",
    "# casting categorilac data\n",
    "df[df.dtypes[df.dtypes == 'object'].index] = df[df.dtypes[df.dtypes == 'object'].index].astype('category')"
   ]
  },
  {
   "cell_type": "code",
   "execution_count": null,
   "metadata": {
    "tags": []
   },
   "outputs": [],
   "source": [
    "# selecting working variables for TVD estimation from WellHeader_Datathon.csv\n",
    "df = pd.DataFrame(well_data_Softypo_ft.loc[:,['source', 'BHT', 'Field', 'TrueTemp', 'BHT_md_ft', 'SurfaceLatitude_NAD83', 'SurfaceLongitude_NAD83', 'VSHALE', 'PHIT', 'SW']], index=well_data_Softypo_ft.index)\n",
    "\n",
    "# casting categorilac data\n",
    "df[df.dtypes[df.dtypes == 'object'].index] = df[df.dtypes[df.dtypes == 'object'].index].astype('category')"
   ]
  },
  {
   "cell_type": "code",
   "execution_count": 18,
   "metadata": {},
   "outputs": [
    {
     "output_type": "execute_result",
     "data": {
      "text/plain": [
       "                     source        BHT   TrueTemp      Field    BHT_md_ft  \\\n",
       "UWI                                                                         \n",
       "42021301990000    synthetic  73.333333        NaN  Eaglebine  6910.000000   \n",
       "100102606420W500  synthetic  27.780000        NaN   Duvernay  4887.467348   \n",
       "100141705519W500  synthetic  83.330000        NaN   Duvernay  8177.493700   \n",
       "100141503621W400  synthetic  48.890000        NaN   Duvernay  4317.093314   \n",
       "100043406718W500  synthetic  65.560000        NaN   Duvernay  7266.568474   \n",
       "...                     ...        ...        ...        ...          ...   \n",
       "100101606423W500  synthetic  47.220000  56.340000   Duvernay  4890.092020   \n",
       "42177309850000    synthetic  74.444444  96.655556  Eaglebine  7032.760000   \n",
       "100100805919W500  synthetic  69.440000  73.050000   Duvernay  6631.889976   \n",
       "100110905226W400  synthetic  51.670000  55.420000   Duvernay  4480.971272   \n",
       "102061504515W400  synthetic  38.600000  42.790000   Duvernay  3116.798000   \n",
       "\n",
       "                    BHT_ss_ft  Initial Hydrostatic Pressure (kPa)  \\\n",
       "UWI                                                                 \n",
       "42021301990000    6588.000000                                 NaN   \n",
       "100102606420W500  2287.401648                            17871.21   \n",
       "100141705519W500  4425.525076                            27634.20   \n",
       "100141503621W400  1339.074846                            14927.15   \n",
       "100043406718W500  4725.557894                            24765.97   \n",
       "...                       ...                                 ...   \n",
       "100101606423W500  2243.110308                            16581.90   \n",
       "42177309850000    6677.000000                                 NaN   \n",
       "100100805919W500  3643.044736                            21518.54   \n",
       "100110905226W400  2136.811092                            15333.94   \n",
       "102061504515W400   828.412100                            12885.00   \n",
       "\n",
       "                  Final Hydrostatic Pressure (kPa)  SurfaceLatitude_NAD83  \\\n",
       "UWI                                                                         \n",
       "42021301990000                                 NaN              30.011031   \n",
       "100102606420W500                          17705.74              54.568936   \n",
       "100141705519W500                          26855.09              53.756720   \n",
       "100141503621W400                          14927.15              52.097198   \n",
       "100043406718W500                          24441.92              54.837612   \n",
       "...                                            ...                    ...   \n",
       "100101606423W500                          16581.90              54.539870   \n",
       "42177309850000                                 NaN              29.287122   \n",
       "100100805919W500                          21146.23              54.089493   \n",
       "100110905226W400                          15396.00              53.478012   \n",
       "102061504515W400                          12859.00              52.877383   \n",
       "\n",
       "                  SurfaceLongitude_NAD83  ...  MW@Depth(KB)          GR  \\\n",
       "UWI                                       ...                             \n",
       "42021301990000                -97.127885  ...        6910.0   73.422600   \n",
       "100102606420W500             -116.909223  ...           NaN   48.028750   \n",
       "100141705519W500             -116.790110  ...           NaN   71.541450   \n",
       "100141503621W400             -112.924817  ...           NaN   46.398625   \n",
       "100043406718W500             -116.667754  ...           NaN   19.313100   \n",
       "...                                  ...  ...           ...         ...   \n",
       "100101606423W500             -117.413684  ...           NaN  126.556100   \n",
       "42177309850000                -97.693154  ...        7035.0   10.848950   \n",
       "100100805919W500             -116.809579  ...           NaN   78.612650   \n",
       "100110905226W400             -113.780388  ...           NaN   60.096150   \n",
       "102061504515W400             -112.097822  ...           NaN   71.991567   \n",
       "\n",
       "                     ILD       RHO      NPHI          DT    VSHALE      PHIT  \\\n",
       "UWI                                                                            \n",
       "42021301990000    2.9700  2.576150  0.185000         NaN  0.453019  0.131637   \n",
       "100102606420W500  2.3187       NaN       NaN  112.420000  0.271634  0.493585   \n",
       "100141705519W500  2.9700       NaN       NaN   92.898700  0.439582  0.297236   \n",
       "100141503621W400  2.9700       NaN       NaN   85.880150  0.259990  0.251182   \n",
       "100043406718W500  2.9700       NaN       NaN   53.188850  0.066522  0.036672   \n",
       "...                  ...       ...       ...         ...       ...       ...   \n",
       "100101606423W500  2.9700  2.045650  0.387500   80.213800  0.832544  0.330003   \n",
       "42177309850000    2.9700       NaN  0.014200         NaN  0.006064  0.014200   \n",
       "100100805919W500  2.9700  2.526800  0.243900   72.978800  0.490090  0.172521   \n",
       "100110905226W400  2.9700       NaN       NaN   65.258500  0.357830  0.115869   \n",
       "102061504515W400     NaN  2.478033  0.259025   81.814736  0.442797  0.206395   \n",
       "\n",
       "                        SW   U  \n",
       "UWI                             \n",
       "42021301990000    0.087182 NaN  \n",
       "100102606420W500  0.007834 NaN  \n",
       "100141705519W500  0.007249 NaN  \n",
       "100141503621W400  0.013685 NaN  \n",
       "100043406718W500  1.000000 NaN  \n",
       "...                    ...  ..  \n",
       "100101606423W500  0.004688 NaN  \n",
       "42177309850000    1.000000 NaN  \n",
       "100100805919W500  0.015688 NaN  \n",
       "100110905226W400  0.275777 NaN  \n",
       "102061504515W400       NaN NaN  \n",
       "\n",
       "[821 rows x 35 columns]"
      ],
      "text/html": "<div>\n<style scoped>\n    .dataframe tbody tr th:only-of-type {\n        vertical-align: middle;\n    }\n\n    .dataframe tbody tr th {\n        vertical-align: top;\n    }\n\n    .dataframe thead th {\n        text-align: right;\n    }\n</style>\n<table border=\"1\" class=\"dataframe\">\n  <thead>\n    <tr style=\"text-align: right;\">\n      <th></th>\n      <th>source</th>\n      <th>BHT</th>\n      <th>TrueTemp</th>\n      <th>Field</th>\n      <th>BHT_md_ft</th>\n      <th>BHT_ss_ft</th>\n      <th>Initial Hydrostatic Pressure (kPa)</th>\n      <th>Final Hydrostatic Pressure (kPa)</th>\n      <th>SurfaceLatitude_NAD83</th>\n      <th>SurfaceLongitude_NAD83</th>\n      <th>...</th>\n      <th>MW@Depth(KB)</th>\n      <th>GR</th>\n      <th>ILD</th>\n      <th>RHO</th>\n      <th>NPHI</th>\n      <th>DT</th>\n      <th>VSHALE</th>\n      <th>PHIT</th>\n      <th>SW</th>\n      <th>U</th>\n    </tr>\n    <tr>\n      <th>UWI</th>\n      <th></th>\n      <th></th>\n      <th></th>\n      <th></th>\n      <th></th>\n      <th></th>\n      <th></th>\n      <th></th>\n      <th></th>\n      <th></th>\n      <th></th>\n      <th></th>\n      <th></th>\n      <th></th>\n      <th></th>\n      <th></th>\n      <th></th>\n      <th></th>\n      <th></th>\n      <th></th>\n      <th></th>\n    </tr>\n  </thead>\n  <tbody>\n    <tr>\n      <th>42021301990000</th>\n      <td>synthetic</td>\n      <td>73.333333</td>\n      <td>NaN</td>\n      <td>Eaglebine</td>\n      <td>6910.000000</td>\n      <td>6588.000000</td>\n      <td>NaN</td>\n      <td>NaN</td>\n      <td>30.011031</td>\n      <td>-97.127885</td>\n      <td>...</td>\n      <td>6910.0</td>\n      <td>73.422600</td>\n      <td>2.9700</td>\n      <td>2.576150</td>\n      <td>0.185000</td>\n      <td>NaN</td>\n      <td>0.453019</td>\n      <td>0.131637</td>\n      <td>0.087182</td>\n      <td>NaN</td>\n    </tr>\n    <tr>\n      <th>100102606420W500</th>\n      <td>synthetic</td>\n      <td>27.780000</td>\n      <td>NaN</td>\n      <td>Duvernay</td>\n      <td>4887.467348</td>\n      <td>2287.401648</td>\n      <td>17871.21</td>\n      <td>17705.74</td>\n      <td>54.568936</td>\n      <td>-116.909223</td>\n      <td>...</td>\n      <td>NaN</td>\n      <td>48.028750</td>\n      <td>2.3187</td>\n      <td>NaN</td>\n      <td>NaN</td>\n      <td>112.420000</td>\n      <td>0.271634</td>\n      <td>0.493585</td>\n      <td>0.007834</td>\n      <td>NaN</td>\n    </tr>\n    <tr>\n      <th>100141705519W500</th>\n      <td>synthetic</td>\n      <td>83.330000</td>\n      <td>NaN</td>\n      <td>Duvernay</td>\n      <td>8177.493700</td>\n      <td>4425.525076</td>\n      <td>27634.20</td>\n      <td>26855.09</td>\n      <td>53.756720</td>\n      <td>-116.790110</td>\n      <td>...</td>\n      <td>NaN</td>\n      <td>71.541450</td>\n      <td>2.9700</td>\n      <td>NaN</td>\n      <td>NaN</td>\n      <td>92.898700</td>\n      <td>0.439582</td>\n      <td>0.297236</td>\n      <td>0.007249</td>\n      <td>NaN</td>\n    </tr>\n    <tr>\n      <th>100141503621W400</th>\n      <td>synthetic</td>\n      <td>48.890000</td>\n      <td>NaN</td>\n      <td>Duvernay</td>\n      <td>4317.093314</td>\n      <td>1339.074846</td>\n      <td>14927.15</td>\n      <td>14927.15</td>\n      <td>52.097198</td>\n      <td>-112.924817</td>\n      <td>...</td>\n      <td>NaN</td>\n      <td>46.398625</td>\n      <td>2.9700</td>\n      <td>NaN</td>\n      <td>NaN</td>\n      <td>85.880150</td>\n      <td>0.259990</td>\n      <td>0.251182</td>\n      <td>0.013685</td>\n      <td>NaN</td>\n    </tr>\n    <tr>\n      <th>100043406718W500</th>\n      <td>synthetic</td>\n      <td>65.560000</td>\n      <td>NaN</td>\n      <td>Duvernay</td>\n      <td>7266.568474</td>\n      <td>4725.557894</td>\n      <td>24765.97</td>\n      <td>24441.92</td>\n      <td>54.837612</td>\n      <td>-116.667754</td>\n      <td>...</td>\n      <td>NaN</td>\n      <td>19.313100</td>\n      <td>2.9700</td>\n      <td>NaN</td>\n      <td>NaN</td>\n      <td>53.188850</td>\n      <td>0.066522</td>\n      <td>0.036672</td>\n      <td>1.000000</td>\n      <td>NaN</td>\n    </tr>\n    <tr>\n      <th>...</th>\n      <td>...</td>\n      <td>...</td>\n      <td>...</td>\n      <td>...</td>\n      <td>...</td>\n      <td>...</td>\n      <td>...</td>\n      <td>...</td>\n      <td>...</td>\n      <td>...</td>\n      <td>...</td>\n      <td>...</td>\n      <td>...</td>\n      <td>...</td>\n      <td>...</td>\n      <td>...</td>\n      <td>...</td>\n      <td>...</td>\n      <td>...</td>\n      <td>...</td>\n      <td>...</td>\n    </tr>\n    <tr>\n      <th>100101606423W500</th>\n      <td>synthetic</td>\n      <td>47.220000</td>\n      <td>56.340000</td>\n      <td>Duvernay</td>\n      <td>4890.092020</td>\n      <td>2243.110308</td>\n      <td>16581.90</td>\n      <td>16581.90</td>\n      <td>54.539870</td>\n      <td>-117.413684</td>\n      <td>...</td>\n      <td>NaN</td>\n      <td>126.556100</td>\n      <td>2.9700</td>\n      <td>2.045650</td>\n      <td>0.387500</td>\n      <td>80.213800</td>\n      <td>0.832544</td>\n      <td>0.330003</td>\n      <td>0.004688</td>\n      <td>NaN</td>\n    </tr>\n    <tr>\n      <th>42177309850000</th>\n      <td>synthetic</td>\n      <td>74.444444</td>\n      <td>96.655556</td>\n      <td>Eaglebine</td>\n      <td>7032.760000</td>\n      <td>6677.000000</td>\n      <td>NaN</td>\n      <td>NaN</td>\n      <td>29.287122</td>\n      <td>-97.693154</td>\n      <td>...</td>\n      <td>7035.0</td>\n      <td>10.848950</td>\n      <td>2.9700</td>\n      <td>NaN</td>\n      <td>0.014200</td>\n      <td>NaN</td>\n      <td>0.006064</td>\n      <td>0.014200</td>\n      <td>1.000000</td>\n      <td>NaN</td>\n    </tr>\n    <tr>\n      <th>100100805919W500</th>\n      <td>synthetic</td>\n      <td>69.440000</td>\n      <td>73.050000</td>\n      <td>Duvernay</td>\n      <td>6631.889976</td>\n      <td>3643.044736</td>\n      <td>21518.54</td>\n      <td>21146.23</td>\n      <td>54.089493</td>\n      <td>-116.809579</td>\n      <td>...</td>\n      <td>NaN</td>\n      <td>78.612650</td>\n      <td>2.9700</td>\n      <td>2.526800</td>\n      <td>0.243900</td>\n      <td>72.978800</td>\n      <td>0.490090</td>\n      <td>0.172521</td>\n      <td>0.015688</td>\n      <td>NaN</td>\n    </tr>\n    <tr>\n      <th>100110905226W400</th>\n      <td>synthetic</td>\n      <td>51.670000</td>\n      <td>55.420000</td>\n      <td>Duvernay</td>\n      <td>4480.971272</td>\n      <td>2136.811092</td>\n      <td>15333.94</td>\n      <td>15396.00</td>\n      <td>53.478012</td>\n      <td>-113.780388</td>\n      <td>...</td>\n      <td>NaN</td>\n      <td>60.096150</td>\n      <td>2.9700</td>\n      <td>NaN</td>\n      <td>NaN</td>\n      <td>65.258500</td>\n      <td>0.357830</td>\n      <td>0.115869</td>\n      <td>0.275777</td>\n      <td>NaN</td>\n    </tr>\n    <tr>\n      <th>102061504515W400</th>\n      <td>synthetic</td>\n      <td>38.600000</td>\n      <td>42.790000</td>\n      <td>Duvernay</td>\n      <td>3116.798000</td>\n      <td>828.412100</td>\n      <td>12885.00</td>\n      <td>12859.00</td>\n      <td>52.877383</td>\n      <td>-112.097822</td>\n      <td>...</td>\n      <td>NaN</td>\n      <td>71.991567</td>\n      <td>NaN</td>\n      <td>2.478033</td>\n      <td>0.259025</td>\n      <td>81.814736</td>\n      <td>0.442797</td>\n      <td>0.206395</td>\n      <td>NaN</td>\n      <td>NaN</td>\n    </tr>\n  </tbody>\n</table>\n<p>821 rows × 35 columns</p>\n</div>"
     },
     "metadata": {},
     "execution_count": 18
    }
   ],
   "source": [
    "df"
   ]
  },
  {
   "cell_type": "code",
   "execution_count": 19,
   "metadata": {},
   "outputs": [],
   "source": [
    "df_num = df[df.dtypes[df.dtypes != 'category'].index]"
   ]
  },
  {
   "cell_type": "code",
   "execution_count": 20,
   "metadata": {},
   "outputs": [],
   "source": [
    "# one hot encoder for categories\n",
    "ohe = OneHotEncoder(sparse=False)\n",
    "df_ohe = pd.DataFrame(ohe.fit_transform(df[df.dtypes[df.dtypes == 'category'].index]), columns=ohe.get_feature_names(df.dtypes[df.dtypes == 'category'].index), index=df.index)\n",
    "# adding numerical columns\n",
    "df_ohe = pd.concat([df[df.dtypes[df.dtypes != 'category'].index], df_ohe], axis=1, verify_integrity=True)"
   ]
  },
  {
   "cell_type": "code",
   "execution_count": 21,
   "metadata": {
    "tags": []
   },
   "outputs": [],
   "source": [
    "# generating train and target dataframes\n",
    "df_train = df_ohe[~df_ohe.TrueTemp.isna()]\n",
    "# target datasets\n",
    "df_target = df_ohe[df_ohe.TrueTemp.isna()]"
   ]
  },
  {
   "cell_type": "code",
   "execution_count": 22,
   "metadata": {
    "tags": []
   },
   "outputs": [],
   "source": [
    "# spliting the training and validation data\n",
    "train_x, holdout_x, train_y, holdout_y = train_test_split(df_train.loc[:, df_train.columns != 'TrueTemp'], df_train.TrueTemp, test_size=0.1, random_state=42)\n",
    "\n",
    "# filling nan values\n",
    "train_x = train_x.fillna(0)\n",
    "holdout_x = holdout_x.fillna(0)\n",
    "\n",
    "# features scaling\n",
    "sc = StandardScaler()\n",
    "train_x = sc.fit_transform(train_x)\n",
    "holdout_x = sc.transform(holdout_x)"
   ]
  },
  {
   "cell_type": "code",
   "execution_count": 23,
   "metadata": {},
   "outputs": [],
   "source": [
    "# saving train and validation sets in binary format\n",
    "np.save('train_x.npy', train_x)\n",
    "np.save('holdout_x.npy', holdout_x)\n",
    "np.save('train_y.npy', train_y)\n",
    "np.save('holdout_y.npy', holdout_y)"
   ]
  },
  {
   "cell_type": "code",
   "execution_count": null,
   "metadata": {},
   "outputs": [],
   "source": [
    "# loading train and validation sets in binary format\n",
    "train_x = np.load('train_x.npy')\n",
    "holdout_x = np.load('holdout_x.npy')\n",
    "train_y = np.load('train_y.npy')\n",
    "holdout_y = np.load('holdout_y.npy')"
   ]
  },
  {
   "cell_type": "code",
   "execution_count": 24,
   "metadata": {},
   "outputs": [
    {
     "output_type": "stream",
     "name": "stdout",
     "text": [
      "train_x:  (553, 293)\nholdout_x:  (62, 293)\n"
     ]
    }
   ],
   "source": [
    "print ('train_x: ',train_x.shape)\n",
    "print ('holdout_x: ',holdout_x.shape)"
   ]
  },
  {
   "source": [
    "## implementing k-folds model"
   ],
   "cell_type": "markdown",
   "metadata": {}
  },
  {
   "cell_type": "code",
   "execution_count": null,
   "metadata": {
    "tags": [
     "outputPrepend"
    ]
   },
   "outputs": [],
   "source": [
    "models, histories, hscores = kfm.model_kfold(train_x, train_y, holdout=[holdout_x,holdout_y], model='v1', num_folds=5, batch_size=None, steps_per_epoch=1, loss_function='mean_squared_error', optimizer='adam', max_epochs=500, verbosity=1, workers=6, use_multiprocessing=True, continue_training=False, save_models_afte_training=True, plot_results=True, reshuffle=False, random_state=42, path=None)"
   ]
  },
  {
   "cell_type": "code",
   "execution_count": null,
   "metadata": {},
   "outputs": [],
   "source": [
    "kfm.graph(histories, tight_layout=True, holdoutscores=hscores)"
   ]
  },
  {
   "cell_type": "code",
   "execution_count": null,
   "metadata": {},
   "outputs": [],
   "source": [
    "# save model\n",
    "#model.save('./_model_deep/model.h5')"
   ]
  },
  {
   "cell_type": "code",
   "execution_count": null,
   "metadata": {},
   "outputs": [],
   "source": [
    "yhat = models['k4_model'].predict(holdout_x)\n",
    "\n",
    "RMSE = mean_squared_error(yhat, holdout_y, squared=False)\n",
    "\n",
    "# poly1d_fn is a function which takes in yhat values and returns an estimate for y\n",
    "coef = np.polyfit(yhat.flat, holdout_y,1)\n",
    "poly1d_fn = np.poly1d(coef)\n",
    "\n",
    "# correlation y/yhat\n",
    "plt.scatter(yhat, holdout_y, color='Red')\n",
    "plt.plot(yhat , poly1d_fn(yhat), '--k', linewidth=3,)\n",
    "plt.xlabel(\"yhat (temp)\")\n",
    "plt.ylabel(\"y (temp)\")\n",
    "plt.text(0, 0, r'RMSE: {:.4f}'.format(RMSE), fontsize=15)\n",
    "plt.show()"
   ]
  },
  {
   "source": [
    "## preparing submission dataframe"
   ],
   "cell_type": "markdown",
   "metadata": {}
  },
  {
   "cell_type": "code",
   "execution_count": null,
   "metadata": {},
   "outputs": [],
   "source": [
    "# creating submission dataframe\n",
    "df_target = df_target.fillna(0)\n",
    "df_target['TrueTemp'] = models['k4_model'].predict(sc.transform(df_target.loc[:, df_target.columns != 'TrueTemp']))\n",
    "df_to_send = df_target.reset_index()\n",
    "df_to_send[['UWI', 'TrueTemp']].to_csv('predictions.csv', index=True)"
   ]
  },
  {
   "cell_type": "code",
   "execution_count": null,
   "metadata": {},
   "outputs": [],
   "source": [
    "# creating submission dataframe\n",
    "df_target = df_target.fillna(0)\n",
    "df_target['k1'] = models['k1_model'].predict(sc.transform(df_target.loc[:, df_target.columns != 'TrueTemp']))\n",
    "df_target['k2'] = models['k2_model'].predict(sc.transform(df_target.loc[:, df_target.columns != 'TrueTemp']))\n",
    "df_target['k3'] = models['k3_model'].predict(sc.transform(df_target.loc[:, df_target.columns != 'TrueTemp']))\n",
    "df_target['k4'] = models['k4_model'].predict(sc.transform(df_target.loc[:, df_target.columns != 'TrueTemp']))\n",
    "df_target['k5'] = models['k5_model'].predict(sc.transform(df_target.loc[:, df_target.columns != 'TrueTemp']))\n",
    "df_target['TrueTemp'] = (df_target['k1']+df_target['k2']+df_target['k3']+df_target['k3']+df_target['k5'])/5\n",
    "df_to_send = df_target.reset_index()\n",
    "df_to_send[['UWI', 'TrueTemp']].to_csv('predictions.csv', index=True)"
   ]
  },
  {
   "cell_type": "code",
   "execution_count": null,
   "metadata": {},
   "outputs": [],
   "source": [
    "# ziping submission\n",
    "import zipfile\n",
    "zipfile.ZipFile('predictions.zip', mode='w').write(\"predictions.csv\")"
   ]
  },
  {
   "cell_type": "code",
   "execution_count": null,
   "metadata": {},
   "outputs": [],
   "source": []
  }
 ],
 "metadata": {
  "kernelspec": {
   "name": "python3",
   "display_name": "Python 3.8.3 64-bit"
  },
  "language_info": {
   "codemirror_mode": {
    "name": "ipython",
    "version": 3
   },
   "file_extension": ".py",
   "mimetype": "text/x-python",
   "name": "python",
   "nbconvert_exporter": "python",
   "pygments_lexer": "ipython3",
   "version": "3.8.3"
  },
  "interpreter": {
   "hash": "fc81a2e38328932b4305c5ab4216893505a147ab677d29bf0ed218855c61a901"
  }
 },
 "nbformat": 4,
 "nbformat_minor": 4
}